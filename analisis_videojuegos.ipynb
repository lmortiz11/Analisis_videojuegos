{
 "cells": [
  {
   "cell_type": "markdown",
   "metadata": {},
   "source": [
    "##  Abre el archivo de datos y estudia la información general "
   ]
  },
  {
   "cell_type": "code",
   "execution_count": 1,
   "metadata": {
    "tags": [
     "e5c1f0c2-db9f-43a0-99b9-4875c52427e8"
    ]
   },
   "outputs": [],
   "source": [
    "# Se importan las librerias que se usaran \n",
    "import pandas as pd\n",
    "import matplotlib.pyplot as plt\n",
    "from scipy import stats as st\n",
    "import numpy as np\n",
    "import math\n",
    "import seaborn as sns"
   ]
  },
  {
   "cell_type": "code",
   "execution_count": 2,
   "metadata": {},
   "outputs": [],
   "source": [
    "#Se abre el archivo\n",
    "games=pd.read_csv('/datasets/games.csv')"
   ]
  },
  {
   "cell_type": "code",
   "execution_count": 3,
   "metadata": {},
   "outputs": [
    {
     "name": "stdout",
     "output_type": "stream",
     "text": [
      "<class 'pandas.core.frame.DataFrame'>\n",
      "RangeIndex: 16715 entries, 0 to 16714\n",
      "Data columns (total 11 columns):\n",
      " #   Column           Non-Null Count  Dtype  \n",
      "---  ------           --------------  -----  \n",
      " 0   Name             16713 non-null  object \n",
      " 1   Platform         16715 non-null  object \n",
      " 2   Year_of_Release  16446 non-null  float64\n",
      " 3   Genre            16713 non-null  object \n",
      " 4   NA_sales         16715 non-null  float64\n",
      " 5   EU_sales         16715 non-null  float64\n",
      " 6   JP_sales         16715 non-null  float64\n",
      " 7   Other_sales      16715 non-null  float64\n",
      " 8   Critic_Score     8137 non-null   float64\n",
      " 9   User_Score       10014 non-null  object \n",
      " 10  Rating           9949 non-null   object \n",
      "dtypes: float64(6), object(5)\n",
      "memory usage: 1.4+ MB\n"
     ]
    }
   ],
   "source": [
    "# Imprime la información general/resumida sobre el DataFrame de los juegos\n",
    "games.info()"
   ]
  },
  {
   "cell_type": "markdown",
   "metadata": {},
   "source": [
    "### Conclusiones preliminares \n",
    "\n",
    "platform, NA_sales,EU_sales, JP_sales y Other_sales no tienen datos ausentes. De la columna names hay 2 datos ausentes, y de las demás columnas tiene varios datos ausentes, se debe revisar si es posible reemplazarlos o ver que tienen e común estos datos ausentes. La columna de year of realease se puede cambiar a int ya que no hay años con decimales. User_score esta de tipo object se debe cambiar a tipo float."
   ]
  },
  {
   "cell_type": "markdown",
   "metadata": {},
   "source": [
    "##  Prepara los datos"
   ]
  },
  {
   "cell_type": "code",
   "execution_count": 4,
   "metadata": {},
   "outputs": [],
   "source": [
    "#Reemplaza los nombres de las columnas a minúsculas\n",
    "games.columns=games.columns.str.lower()"
   ]
  },
  {
   "cell_type": "code",
   "execution_count": 5,
   "metadata": {},
   "outputs": [
    {
     "data": {
      "text/plain": [
       "0"
      ]
     },
     "execution_count": 5,
     "metadata": {},
     "output_type": "execute_result"
    }
   ],
   "source": [
    "#Mirar si hay filas duplicadas\n",
    "games.duplicated().sum()\n"
   ]
  },
  {
   "cell_type": "code",
   "execution_count": 6,
   "metadata": {},
   "outputs": [],
   "source": [
    "#Se ponen todos los nombres de los juegos en minúsculas \n",
    "games['name']=games['name'].str.lower()"
   ]
  },
  {
   "cell_type": "code",
   "execution_count": 7,
   "metadata": {},
   "outputs": [
    {
     "data": {
      "text/html": [
       "<div>\n",
       "<style scoped>\n",
       "    .dataframe tbody tr th:only-of-type {\n",
       "        vertical-align: middle;\n",
       "    }\n",
       "\n",
       "    .dataframe tbody tr th {\n",
       "        vertical-align: top;\n",
       "    }\n",
       "\n",
       "    .dataframe thead th {\n",
       "        text-align: right;\n",
       "    }\n",
       "</style>\n",
       "<table border=\"1\" class=\"dataframe\">\n",
       "  <thead>\n",
       "    <tr style=\"text-align: right;\">\n",
       "      <th></th>\n",
       "      <th>name</th>\n",
       "      <th>platform</th>\n",
       "      <th>year_of_release</th>\n",
       "      <th>genre</th>\n",
       "      <th>na_sales</th>\n",
       "      <th>eu_sales</th>\n",
       "      <th>jp_sales</th>\n",
       "      <th>other_sales</th>\n",
       "      <th>critic_score</th>\n",
       "      <th>user_score</th>\n",
       "      <th>rating</th>\n",
       "    </tr>\n",
       "  </thead>\n",
       "  <tbody>\n",
       "    <tr>\n",
       "      <th>659</th>\n",
       "      <td>NaN</td>\n",
       "      <td>GEN</td>\n",
       "      <td>1993.0</td>\n",
       "      <td>NaN</td>\n",
       "      <td>1.78</td>\n",
       "      <td>0.53</td>\n",
       "      <td>0.00</td>\n",
       "      <td>0.08</td>\n",
       "      <td>NaN</td>\n",
       "      <td>NaN</td>\n",
       "      <td>NaN</td>\n",
       "    </tr>\n",
       "    <tr>\n",
       "      <th>14244</th>\n",
       "      <td>NaN</td>\n",
       "      <td>GEN</td>\n",
       "      <td>1993.0</td>\n",
       "      <td>NaN</td>\n",
       "      <td>0.00</td>\n",
       "      <td>0.00</td>\n",
       "      <td>0.03</td>\n",
       "      <td>0.00</td>\n",
       "      <td>NaN</td>\n",
       "      <td>NaN</td>\n",
       "      <td>NaN</td>\n",
       "    </tr>\n",
       "  </tbody>\n",
       "</table>\n",
       "</div>"
      ],
      "text/plain": [
       "      name platform  year_of_release genre  na_sales  eu_sales  jp_sales  \\\n",
       "659    NaN      GEN           1993.0   NaN      1.78      0.53      0.00   \n",
       "14244  NaN      GEN           1993.0   NaN      0.00      0.00      0.03   \n",
       "\n",
       "       other_sales  critic_score user_score rating  \n",
       "659           0.08           NaN        NaN    NaN  \n",
       "14244         0.00           NaN        NaN    NaN  "
      ]
     },
     "execution_count": 7,
     "metadata": {},
     "output_type": "execute_result"
    }
   ],
   "source": [
    "#se revisa los datos ausentes de la columna nombre \n",
    "games[games['name'].isna()]"
   ]
  },
  {
   "cell_type": "markdown",
   "metadata": {},
   "source": [
    "De estos dos juegos no se sabe el nombre y se observa que las ventas fueron mut bajas, y no se tinen información sobre los demás datos, por lo que se eliminan."
   ]
  },
  {
   "cell_type": "code",
   "execution_count": 8,
   "metadata": {},
   "outputs": [],
   "source": [
    "#Eliminar filas donde name es NaN\n",
    "games=games.dropna(subset=['name'])"
   ]
  },
  {
   "cell_type": "code",
   "execution_count": 9,
   "metadata": {},
   "outputs": [
    {
     "data": {
      "text/plain": [
       "31"
      ]
     },
     "execution_count": 9,
     "metadata": {},
     "output_type": "execute_result"
    }
   ],
   "source": [
    "#ver cuantas plataformas hay\n",
    "games['platform'].nunique()"
   ]
  },
  {
   "cell_type": "markdown",
   "metadata": {},
   "source": [
    "Hay 31 plataformas"
   ]
  },
  {
   "cell_type": "code",
   "execution_count": 10,
   "metadata": {},
   "outputs": [],
   "source": [
    "#Convierte year_of_release a int\n",
    "games['year_of_release']=games['year_of_release'].astype('Int64')"
   ]
  },
  {
   "cell_type": "code",
   "execution_count": 11,
   "metadata": {},
   "outputs": [
    {
     "data": {
      "text/html": [
       "<div>\n",
       "<style scoped>\n",
       "    .dataframe tbody tr th:only-of-type {\n",
       "        vertical-align: middle;\n",
       "    }\n",
       "\n",
       "    .dataframe tbody tr th {\n",
       "        vertical-align: top;\n",
       "    }\n",
       "\n",
       "    .dataframe thead th {\n",
       "        text-align: right;\n",
       "    }\n",
       "</style>\n",
       "<table border=\"1\" class=\"dataframe\">\n",
       "  <thead>\n",
       "    <tr style=\"text-align: right;\">\n",
       "      <th></th>\n",
       "      <th>name</th>\n",
       "      <th>platform</th>\n",
       "      <th>year_of_release</th>\n",
       "      <th>genre</th>\n",
       "      <th>na_sales</th>\n",
       "      <th>eu_sales</th>\n",
       "      <th>jp_sales</th>\n",
       "      <th>other_sales</th>\n",
       "      <th>critic_score</th>\n",
       "      <th>user_score</th>\n",
       "      <th>rating</th>\n",
       "    </tr>\n",
       "  </thead>\n",
       "  <tbody>\n",
       "    <tr>\n",
       "      <th>183</th>\n",
       "      <td>madden nfl 2004</td>\n",
       "      <td>PS2</td>\n",
       "      <td>&lt;NA&gt;</td>\n",
       "      <td>Sports</td>\n",
       "      <td>4.26</td>\n",
       "      <td>0.26</td>\n",
       "      <td>0.01</td>\n",
       "      <td>0.71</td>\n",
       "      <td>94.0</td>\n",
       "      <td>8.5</td>\n",
       "      <td>E</td>\n",
       "    </tr>\n",
       "    <tr>\n",
       "      <th>377</th>\n",
       "      <td>fifa soccer 2004</td>\n",
       "      <td>PS2</td>\n",
       "      <td>&lt;NA&gt;</td>\n",
       "      <td>Sports</td>\n",
       "      <td>0.59</td>\n",
       "      <td>2.36</td>\n",
       "      <td>0.04</td>\n",
       "      <td>0.51</td>\n",
       "      <td>84.0</td>\n",
       "      <td>6.4</td>\n",
       "      <td>E</td>\n",
       "    </tr>\n",
       "    <tr>\n",
       "      <th>456</th>\n",
       "      <td>lego batman: the videogame</td>\n",
       "      <td>Wii</td>\n",
       "      <td>&lt;NA&gt;</td>\n",
       "      <td>Action</td>\n",
       "      <td>1.80</td>\n",
       "      <td>0.97</td>\n",
       "      <td>0.00</td>\n",
       "      <td>0.29</td>\n",
       "      <td>74.0</td>\n",
       "      <td>7.9</td>\n",
       "      <td>E10+</td>\n",
       "    </tr>\n",
       "    <tr>\n",
       "      <th>475</th>\n",
       "      <td>wwe smackdown vs. raw 2006</td>\n",
       "      <td>PS2</td>\n",
       "      <td>&lt;NA&gt;</td>\n",
       "      <td>Fighting</td>\n",
       "      <td>1.57</td>\n",
       "      <td>1.02</td>\n",
       "      <td>0.00</td>\n",
       "      <td>0.41</td>\n",
       "      <td>NaN</td>\n",
       "      <td>NaN</td>\n",
       "      <td>NaN</td>\n",
       "    </tr>\n",
       "    <tr>\n",
       "      <th>609</th>\n",
       "      <td>space invaders</td>\n",
       "      <td>2600</td>\n",
       "      <td>&lt;NA&gt;</td>\n",
       "      <td>Shooter</td>\n",
       "      <td>2.36</td>\n",
       "      <td>0.14</td>\n",
       "      <td>0.00</td>\n",
       "      <td>0.03</td>\n",
       "      <td>NaN</td>\n",
       "      <td>NaN</td>\n",
       "      <td>NaN</td>\n",
       "    </tr>\n",
       "    <tr>\n",
       "      <th>...</th>\n",
       "      <td>...</td>\n",
       "      <td>...</td>\n",
       "      <td>...</td>\n",
       "      <td>...</td>\n",
       "      <td>...</td>\n",
       "      <td>...</td>\n",
       "      <td>...</td>\n",
       "      <td>...</td>\n",
       "      <td>...</td>\n",
       "      <td>...</td>\n",
       "      <td>...</td>\n",
       "    </tr>\n",
       "    <tr>\n",
       "      <th>16373</th>\n",
       "      <td>pdc world championship darts 2008</td>\n",
       "      <td>PSP</td>\n",
       "      <td>&lt;NA&gt;</td>\n",
       "      <td>Sports</td>\n",
       "      <td>0.01</td>\n",
       "      <td>0.00</td>\n",
       "      <td>0.00</td>\n",
       "      <td>0.00</td>\n",
       "      <td>43.0</td>\n",
       "      <td>tbd</td>\n",
       "      <td>E10+</td>\n",
       "    </tr>\n",
       "    <tr>\n",
       "      <th>16405</th>\n",
       "      <td>freaky flyers</td>\n",
       "      <td>GC</td>\n",
       "      <td>&lt;NA&gt;</td>\n",
       "      <td>Racing</td>\n",
       "      <td>0.01</td>\n",
       "      <td>0.00</td>\n",
       "      <td>0.00</td>\n",
       "      <td>0.00</td>\n",
       "      <td>69.0</td>\n",
       "      <td>6.5</td>\n",
       "      <td>T</td>\n",
       "    </tr>\n",
       "    <tr>\n",
       "      <th>16448</th>\n",
       "      <td>inversion</td>\n",
       "      <td>PC</td>\n",
       "      <td>&lt;NA&gt;</td>\n",
       "      <td>Shooter</td>\n",
       "      <td>0.01</td>\n",
       "      <td>0.00</td>\n",
       "      <td>0.00</td>\n",
       "      <td>0.00</td>\n",
       "      <td>59.0</td>\n",
       "      <td>6.7</td>\n",
       "      <td>M</td>\n",
       "    </tr>\n",
       "    <tr>\n",
       "      <th>16458</th>\n",
       "      <td>hakuouki: shinsengumi kitan</td>\n",
       "      <td>PS3</td>\n",
       "      <td>&lt;NA&gt;</td>\n",
       "      <td>Adventure</td>\n",
       "      <td>0.01</td>\n",
       "      <td>0.00</td>\n",
       "      <td>0.00</td>\n",
       "      <td>0.00</td>\n",
       "      <td>NaN</td>\n",
       "      <td>NaN</td>\n",
       "      <td>NaN</td>\n",
       "    </tr>\n",
       "    <tr>\n",
       "      <th>16522</th>\n",
       "      <td>virtua quest</td>\n",
       "      <td>GC</td>\n",
       "      <td>&lt;NA&gt;</td>\n",
       "      <td>Role-Playing</td>\n",
       "      <td>0.01</td>\n",
       "      <td>0.00</td>\n",
       "      <td>0.00</td>\n",
       "      <td>0.00</td>\n",
       "      <td>55.0</td>\n",
       "      <td>5.5</td>\n",
       "      <td>T</td>\n",
       "    </tr>\n",
       "  </tbody>\n",
       "</table>\n",
       "<p>269 rows × 11 columns</p>\n",
       "</div>"
      ],
      "text/plain": [
       "                                    name platform  year_of_release  \\\n",
       "183                      madden nfl 2004      PS2             <NA>   \n",
       "377                     fifa soccer 2004      PS2             <NA>   \n",
       "456           lego batman: the videogame      Wii             <NA>   \n",
       "475           wwe smackdown vs. raw 2006      PS2             <NA>   \n",
       "609                       space invaders     2600             <NA>   \n",
       "...                                  ...      ...              ...   \n",
       "16373  pdc world championship darts 2008      PSP             <NA>   \n",
       "16405                      freaky flyers       GC             <NA>   \n",
       "16448                          inversion       PC             <NA>   \n",
       "16458        hakuouki: shinsengumi kitan      PS3             <NA>   \n",
       "16522                       virtua quest       GC             <NA>   \n",
       "\n",
       "              genre  na_sales  eu_sales  jp_sales  other_sales  critic_score  \\\n",
       "183          Sports      4.26      0.26      0.01         0.71          94.0   \n",
       "377          Sports      0.59      2.36      0.04         0.51          84.0   \n",
       "456          Action      1.80      0.97      0.00         0.29          74.0   \n",
       "475        Fighting      1.57      1.02      0.00         0.41           NaN   \n",
       "609         Shooter      2.36      0.14      0.00         0.03           NaN   \n",
       "...             ...       ...       ...       ...          ...           ...   \n",
       "16373        Sports      0.01      0.00      0.00         0.00          43.0   \n",
       "16405        Racing      0.01      0.00      0.00         0.00          69.0   \n",
       "16448       Shooter      0.01      0.00      0.00         0.00          59.0   \n",
       "16458     Adventure      0.01      0.00      0.00         0.00           NaN   \n",
       "16522  Role-Playing      0.01      0.00      0.00         0.00          55.0   \n",
       "\n",
       "      user_score rating  \n",
       "183          8.5      E  \n",
       "377          6.4      E  \n",
       "456          7.9   E10+  \n",
       "475          NaN    NaN  \n",
       "609          NaN    NaN  \n",
       "...          ...    ...  \n",
       "16373        tbd   E10+  \n",
       "16405        6.5      T  \n",
       "16448        6.7      M  \n",
       "16458        NaN    NaN  \n",
       "16522        5.5      T  \n",
       "\n",
       "[269 rows x 11 columns]"
      ]
     },
     "execution_count": 11,
     "metadata": {},
     "output_type": "execute_result"
    }
   ],
   "source": [
    "#mirar los datos en el que year_of_release son nulos\n",
    "games[games['year_of_release'].isna()]"
   ]
  },
  {
   "cell_type": "markdown",
   "metadata": {},
   "source": [
    "Se observa que hay unos juegos donde tienen el año en el nombre. Entonces en algunos casos se puede obtener el año de la columna name. De los demás juegos como no hay datos que nos ayuden a saber cual es el año en que lo sacaron, se dejan como valores nulos."
   ]
  },
  {
   "cell_type": "code",
   "execution_count": 12,
   "metadata": {},
   "outputs": [],
   "source": [
    "import re\n",
    "for item, frame in games['year_of_release'].iteritems():\n",
    "    if pd.isna(frame):\n",
    "        try:\n",
    "            year=int(re.search(r'\\d+', games.name[item]).group())\n",
    "            if year<1111:\n",
    "                year=games.year_of_release[item]\n",
    "    \n",
    "        except:\n",
    "            year=games.year_of_release[item]\n",
    "        games.year_of_release[item]=year"
   ]
  },
  {
   "cell_type": "code",
   "execution_count": 13,
   "metadata": {},
   "outputs": [],
   "source": [
    "# Se cambia el tipo de user_code de object a float y los valor tbd se cambia a NaN\n",
    "games['user_score']=pd.to_numeric(games['user_score'],errors='coerce')"
   ]
  },
  {
   "cell_type": "code",
   "execution_count": 14,
   "metadata": {},
   "outputs": [
    {
     "data": {
      "text/plain": [
       "critic_score    8576\n",
       "user_score      9123\n",
       "dtype: int64"
      ]
     },
     "execution_count": 14,
     "metadata": {},
     "output_type": "execute_result"
    }
   ],
   "source": [
    "#ver cuantos valores nulos hay en critic y user score\n",
    "games[['critic_score','user_score']].isna().sum()"
   ]
  },
  {
   "cell_type": "code",
   "execution_count": 15,
   "metadata": {},
   "outputs": [],
   "source": [
    "#Calcular las ventas totales \n",
    "\n",
    "games['total_sales']=games['na_sales']+games['eu_sales']+games['jp_sales']+games['other_sales']"
   ]
  },
  {
   "cell_type": "markdown",
   "metadata": {},
   "source": [
    "### Conclusion parte 2\n",
    "\n",
    "Se elimino las filas que no tenían nombre del juego, ya que no tenían información relevante. Se observo que no hay duplicados en el dataframe. También se observo que la columna nombre tiene unos datos repetidos pero es porque el juego se saco para diferentes plataformas, por lo tanto son datos únicos. \n",
    "\n",
    "La columna años tenía varios valores auscentes, habían unos juegos que tenía el dato del año en su nombre, por lo que se sustituyo el valor del año para los que tenían esta información. Los demás juegos con ao ausente se dejaron así ya que no hay datos para saber esta información. Y también se le cambio el tipo de float a int. \n",
    "\n",
    "Los datos auscente en critics_score y user_score no se sustituyeron ya que no hay información sobre esto y puede que estos juego nunca hayan recibido critica por lo que también se puede analizar más adelante como afecta las ventas de un juego cuando no hay evaluciones por parte de los criticos o de los usuarios. Los datos de user_score se cambian a float, y los valores que tienen tbd se ponen como nan porque igualmente no se tiene información sobre esta puntuación.\n"
   ]
  },
  {
   "cell_type": "markdown",
   "metadata": {},
   "source": [
    "## Análiza los datos"
   ]
  },
  {
   "cell_type": "markdown",
   "metadata": {},
   "source": [
    "### Calcular cuantos juegos fueron lanzados cada año"
   ]
  },
  {
   "cell_type": "code",
   "execution_count": 16,
   "metadata": {},
   "outputs": [
    {
     "data": {
      "image/png": "[encoded data removed]",
      "text/plain": [
       "<Figure size 640x480 with 1 Axes>"
      ]
     },
     "metadata": {},
     "output_type": "display_data"
    }
   ],
   "source": [
    "#Se reaaliza un gráfico para visualizar cuantos juegos fueron lanzados en cada año\n",
    "counts = games[\"year_of_release\"].value_counts().sort_values(ascending=False)\n",
    "sns.lineplot(data=counts, x=counts.index, y=counts.values)\n",
    "plt.xlabel('Año de lanzamiento')\n",
    "plt.ylabel('Cantidad de juegos')\n",
    "plt.title('Cantidad de juegos lanzados cada año')\n",
    "plt.show()"
   ]
  },
  {
   "cell_type": "markdown",
   "metadata": {},
   "source": [
    "Del anterior grafico, se puede observar que a partir del año 1995 fue que empezo a haber un incremento en la cantidad de juego que salían al mercado. A partir del 2005 hubo un incremento significativo en cuantos juegos sacaban al año. El año 2008 y 2009 fueron en donde salieron al mercado más videojuegos. Sin embargo en el 2010 se redujo mucho la cantidad de juegos lanzados. \n",
    "\n",
    "Los datos que se tienen de antes del 2001 no son significativos ya que en esta época anualmente no se lanzaban muchos videojuegos, además desde este año ha cambiado mucho la tecnologia y la capacidad de las personas de tener las cosas necesarias para poder jugar. Estos datos no aportan mucho por lo que se puede no tomar en cuenta para el análisis. "
   ]
  },
  {
   "cell_type": "markdown",
   "metadata": {},
   "source": [
    "### Identificar cuales son las plataformas con mayores ventas"
   ]
  },
  {
   "cell_type": "code",
   "execution_count": 17,
   "metadata": {},
   "outputs": [],
   "source": [
    "# identificar cuantos juegos se han lanzado en cada plataforma\n",
    "games_per_platform=games[['platform']].value_counts().rename('num_game_release')\n",
    "\n",
    "#Identificar las ventas totales por plataforma\n",
    "sales_per_platform=games.groupby('platform')[['platform','na_sales','eu_sales','jp_sales','other_sales','total_sales']].sum('total_sales').sort_values(by='total_sales', ascending=False)\n",
    "\n",
    "# Merge la serie en un dataframe\n",
    "game_platform_sales=sales_per_platform.merge(games_per_platform, how='left', on ='platform').reset_index()"
   ]
  },
  {
   "cell_type": "code",
   "execution_count": 18,
   "metadata": {},
   "outputs": [
    {
     "data": {
      "image/png": "[encoded data removed]",
      "text/plain": [
       "<Figure size 640x480 with 1 Axes>"
      ]
     },
     "metadata": {},
     "output_type": "display_data"
    }
   ],
   "source": [
    "game_platform_sales.plot(x=\"platform\", y=['na_sales','eu_sales','jp_sales','other_sales'], kind=\"bar\", stacked=True,title='Total de ventas en millones por plataforma',xlabel='Plataforma',ylabel= 'Ventas totales (millones de USD)')\n",
    "plt.show()"
   ]
  },
  {
   "cell_type": "markdown",
   "metadata": {},
   "source": [
    "Del gráfico se observa que PS2 es el que ha tenido muchas más ventas comparado con las demás plataformas. Luego se observa que hay un grupo de 5 plataformas, desde x360 a PS, en el que las ventas van de 1000 millones a 700 millones de dólares. Después de PS hay una gran caída a menos de 400 millones en ventas para GBA. También se observa que la mayoría de las ventas se dan en Norte América y otra gran parte en Europa.\n",
    "\n",
    "Se eligen las plataformas que tienen mayores ventas totales para construir una distribución con base en los datos de cada año. Se realiza un gráfico de líneas para la plataforma ps2 a ps que son las que más ventas tienen, para ver la distribución basada en los datos de cada año.\n"
   ]
  },
  {
   "cell_type": "code",
   "execution_count": 19,
   "metadata": {},
   "outputs": [],
   "source": [
    "# Agrupa por plataforma y por año\n",
    "platform_year=games.groupby(['platform','year_of_release'] ,as_index=False).sum()"
   ]
  },
  {
   "cell_type": "code",
   "execution_count": 20,
   "metadata": {},
   "outputs": [],
   "source": [
    "#Se hace un filtro cogiendo solo las plataformas que más ventas tienen \n",
    "famous_platforms=['PS2','X360','PS3','Wii','DS','PS']\n",
    "best_sale=platform_year[platform_year['platform'].isin(famous_platforms)]"
   ]
  },
  {
   "cell_type": "code",
   "execution_count": 21,
   "metadata": {},
   "outputs": [
    {
     "data": {
      "image/png": "[encoded data removed]",
      "text/plain": [
       "<Figure size 640x480 with 1 Axes>"
      ]
     },
     "metadata": {},
     "output_type": "display_data"
    }
   ],
   "source": [
    "sns.lineplot(data=best_sale, x=\"year_of_release\", y=\"total_sales\",hue=\"platform\")\n",
    "plt.legend(bbox_to_anchor=(1.05, 1), loc=2, borderaxespad=0., title='Plataformas')\n",
    "plt.title('Ventas Plataformas más populares')\n",
    "plt.xlabel('Año')\n",
    "plt.ylabel('Total de ventas (millones de USD)')\n",
    "plt.show()"
   ]
  },
  {
   "cell_type": "markdown",
   "metadata": {},
   "source": [
    "Las plataformas más famosas son PS2,X360,PS3,Wii,DS,PS. PS tuvo un gran pico de ventas en el 1998 y después de esto las venta bajon mucho, cuando las ventas de ps bajaron las de PS2. La baja de PS se puede deber a que salio al mercado una nueva versión de esta consola, que vendría con mejoras, por lo que las personas compraran más juegos de esta nueva plataforma. Se ve que cuando las ventas de una plataforma empieza a bajar es porque sale al mercado una nueva plataforma. "
   ]
  },
  {
   "cell_type": "markdown",
   "metadata": {},
   "source": [
    "### Busca las plataformas que solían ser populares pero que ahora no tienen ventas."
   ]
  },
  {
   "cell_type": "code",
   "execution_count": 22,
   "metadata": {},
   "outputs": [],
   "source": [
    "#Se seleccionan solo los datos que estan después del 2004\n",
    "games_after_2004=platform_year[platform_year['year_of_release']>=2004]"
   ]
  },
  {
   "cell_type": "code",
   "execution_count": 23,
   "metadata": {},
   "outputs": [
    {
     "data": {
      "image/png": "[encoded data removed]",
      "text/plain": [
       "<Figure size 640x480 with 1 Axes>"
      ]
     },
     "metadata": {},
     "output_type": "display_data"
    }
   ],
   "source": [
    "#Se realiza un gráfico de lineas para ver las ventas de las plataformas a través de los años \n",
    "sns.lineplot(data=games_after_2004, x=\"year_of_release\", y=\"total_sales\",hue=\"platform\",palette='husl')\n",
    "plt.legend(bbox_to_anchor=(1.05, 1), loc=2, borderaxespad=0., title='Plataformas')\n",
    "plt.xlabel('Año')\n",
    "plt.ylabel('ventas totales (millones de USD)')\n",
    "plt.title('Ventas totales de plataformas del 2004 al 2016')\n",
    "plt.show()"
   ]
  },
  {
   "cell_type": "markdown",
   "metadata": {},
   "source": [
    "Se hizo el gráfico desde el año 2004 ya que los años anteriores a este son ya muy antiguos y la cantidad de plataformas que existen y salen al mercado es muy diferente. De este periodo se observa que en entre el año 2004 y 2006 salió una nueva plataforma cada año. Después hubo un periodo, del 2007 al 2010 en el que no salieron nuevas plataformas y luego en el 2011 sacaron dos nuevas plataformas al mercado, luego hasta el 2013 volvieron a salir dos nuevas plataformas. Por otro lado, se observa que hay plataforma que nace en el 2004 y ya en el 2013 no tiene ventas registradas, y hay otra que nace en el 2006 y ya para el 2014 las ventas son muy bajas, ya están saliendo del mercado, y también se observa que una que nace en el 2005 para el 2015 las ventas son demasiado bajas.\n",
    "\n",
    "De esto se puede concluir que, en los últimos años, cada 1 o 2 dos años está saliendo al mercado al menos una plataforma nueva. Con base en el análisis se puede decir también que las plataformas que les va bien duran en el mercado entre 8 y 11 años. También se observa plataformas que han estado mucho tiempo en el mercado como lo es PC, que han tenido una cantidad de ventas muy similar en todos sus años en el mercado pero son muy bajas comparadas con las plataformas más nuevas.\n"
   ]
  },
  {
   "cell_type": "markdown",
   "metadata": {},
   "source": [
    "### Análisis\n",
    "Para hacer un modelo para el año 2017, voy tomar los datos a partir del año 2004, ya  los demás años son demaciado antiguos y no muestra la realidad del mercado hoy en día. \n",
    "\n",
    "Se observara cuales son las plataformas lideres en ventas en este periodo de tiempo"
   ]
  },
  {
   "cell_type": "code",
   "execution_count": 24,
   "metadata": {},
   "outputs": [],
   "source": [
    "#Identificar las ventas totales por plataforma a partir del año 2004\n",
    "sales_per_platform_2004=games_after_2004.groupby('platform')[['platform','na_sales','eu_sales','jp_sales','other_sales','total_sales']].sum('total_sales').sort_values(by='total_sales', ascending=False).reset_index()"
   ]
  },
  {
   "cell_type": "code",
   "execution_count": 25,
   "metadata": {},
   "outputs": [
    {
     "data": {
      "image/png": "[encoded data removed]",
      "text/plain": [
       "<Figure size 640x480 with 1 Axes>"
      ]
     },
     "metadata": {},
     "output_type": "display_data"
    }
   ],
   "source": [
    "sales_per_platform_2004.plot(x=\"platform\", y=['na_sales','eu_sales','jp_sales','other_sales'], kind=\"bar\", stacked=True,title='Total de ventas en millones por plataforma',xlabel='Plataforma',ylabel= 'Ventas totales (millones de USD)')\n",
    "plt.show()"
   ]
  },
  {
   "cell_type": "markdown",
   "metadata": {},
   "source": [
    "Se observa que para este periodo de tiempo las plataformas que son lideres en ventas es X360, PS3, Wii, DS, PS2. De los ingresos totales en todos los años se ve que en el top 5 siguen las mismas plataformas, sin embargo, están en orden diferentes. Sumando las ventas de todos los años ps2 tiene más ventas, pero en este periodo de tiempo bajo a la plataforma N. 5 en ventas, aunque sigue vendiendo una buena cantidad, las ventas disminuyeron. Y para estos últimos años la que más vende es el X360, seguido da PS3 y Wii."
   ]
  },
  {
   "cell_type": "markdown",
   "metadata": {},
   "source": [
    "### Diagrama de caja para las ventas globales de todos los juegos"
   ]
  },
  {
   "cell_type": "code",
   "execution_count": 26,
   "metadata": {},
   "outputs": [],
   "source": [
    "# dataframe con los datos que se van a usar para el análisis\n",
    "games_after_2004=games[games['year_of_release']>2004]"
   ]
  },
  {
   "cell_type": "code",
   "execution_count": 27,
   "metadata": {},
   "outputs": [
    {
     "data": {
      "image/png": "[encoded data removed]",
      "text/plain": [
       "<Figure size 640x480 with 1 Axes>"
      ]
     },
     "metadata": {},
     "output_type": "display_data"
    }
   ],
   "source": [
    "#Realiza un diagrama de caja de las ventas de cada juego\n",
    "boxplot = games_after_2004.boxplot(column='total_sales')\n",
    "plt.title('Diagrama de caja de las ventas de cada juego')\n",
    "plt.show()"
   ]
  },
  {
   "cell_type": "code",
   "execution_count": 28,
   "metadata": {},
   "outputs": [
    {
     "name": "stdout",
     "output_type": "stream",
     "text": [
      "La media de los datos es: 0.4839195178159901\n"
     ]
    }
   ],
   "source": [
    "mean=games_after_2004['total_sales'].mean()\n",
    "print(f'La media de los datos es: {mean}')"
   ]
  },
  {
   "cell_type": "markdown",
   "metadata": {},
   "source": [
    "Este diagrama de caja no es muy informativo, ya que no se puede observar cual es el percentil 25%, el percentil 50%(mediana) ni el percentil 75%. Esto se debe a que hay un juegos que tuvo ventas muy altas, se vendio más de 80 millones. \n",
    "\n",
    "Para poder visualizar mejor la información se eliminan estos datos. Por consiguente se filtraran los datos, para juegos que tengan menos de 1 millón de vetas teniendo en cuenta de que la media de los datos es de casi 500.000 dolares."
   ]
  },
  {
   "cell_type": "code",
   "execution_count": 29,
   "metadata": {},
   "outputs": [],
   "source": [
    "filtered_data= games_after_2004[games_after_2004['total_sales']<= 1.00]"
   ]
  },
  {
   "cell_type": "code",
   "execution_count": 30,
   "metadata": {},
   "outputs": [
    {
     "data": {
      "image/png": "[encoded data removed]",
      "text/plain": [
       "<Figure size 640x480 with 1 Axes>"
      ]
     },
     "metadata": {},
     "output_type": "display_data"
    }
   ],
   "source": [
    "filtered_data.boxplot(column='total_sales')\n",
    "plt.title('Diagrama de caja de las ventas de cada juego')\n",
    "plt.show()"
   ]
  },
  {
   "cell_type": "markdown",
   "metadata": {},
   "source": [
    "Con los datos filtrados se realiza un diagrama de caja para las ventas globales de todos los juegos, desglosados por plataforma."
   ]
  },
  {
   "cell_type": "code",
   "execution_count": 31,
   "metadata": {},
   "outputs": [
    {
     "data": {
      "image/png": "[encoded data removed]",
      "text/plain": [
       "<Figure size 640x480 with 1 Axes>"
      ]
     },
     "metadata": {},
     "output_type": "display_data"
    },
    {
     "data": {
      "text/plain": [
       "<Figure size 2000x1000 with 0 Axes>"
      ]
     },
     "metadata": {},
     "output_type": "display_data"
    }
   ],
   "source": [
    "#Se ordena las plataformas por la media de menor a mayor \n",
    "order = filtered_data.groupby(by=[\"platform\"])[\"total_sales\"].median().sort_values().index\n",
    "\n",
    "sns.boxplot(data=filtered_data,x='platform',y='total_sales',order=order)\n",
    "plt.title('Diagrama de caja de venta de juegos por plataforma')\n",
    "plt.figure(figsize=(20, 10))\n",
    "plt.show()"
   ]
  },
  {
   "cell_type": "markdown",
   "metadata": {},
   "source": [
    "#### Conclusiones\n",
    "\n",
    "Se observa para este periodo que la plataforma DC ya estaba saliendo del mercado por lo cual las ventas son muy bajas. También, que los juegos que más ventas han tenido es el de la plataforma X360, sin embargo, han tenido una cantidad de ventas muy similares con PS3. también se puede decir que hay varios juegos de ps3 que han tenido ventas muy grandes. Las ventas de los juegos de PS4, PS2 y xone son muy similares."
   ]
  },
  {
   "cell_type": "markdown",
   "metadata": {},
   "source": [
    "### cómo las reseñas de usuarios y profesionales afectan las ventas de las plataformas\n",
    "\n",
    "Se escoge la plataforma que más ventas tiene, que es X360 y se calcula la correlación entre las reseñas y las ventas"
   ]
  },
  {
   "cell_type": "code",
   "execution_count": 32,
   "metadata": {},
   "outputs": [
    {
     "data": {
      "text/html": [
       "<div>\n",
       "<style scoped>\n",
       "    .dataframe tbody tr th:only-of-type {\n",
       "        vertical-align: middle;\n",
       "    }\n",
       "\n",
       "    .dataframe tbody tr th {\n",
       "        vertical-align: top;\n",
       "    }\n",
       "\n",
       "    .dataframe thead th {\n",
       "        text-align: right;\n",
       "    }\n",
       "</style>\n",
       "<table border=\"1\" class=\"dataframe\">\n",
       "  <thead>\n",
       "    <tr style=\"text-align: right;\">\n",
       "      <th></th>\n",
       "      <th>year_of_release</th>\n",
       "      <th>na_sales</th>\n",
       "      <th>eu_sales</th>\n",
       "      <th>jp_sales</th>\n",
       "      <th>other_sales</th>\n",
       "      <th>critic_score</th>\n",
       "      <th>user_score</th>\n",
       "      <th>total_sales</th>\n",
       "    </tr>\n",
       "  </thead>\n",
       "  <tbody>\n",
       "    <tr>\n",
       "      <th>year_of_release</th>\n",
       "      <td>1.000000</td>\n",
       "      <td>-0.102146</td>\n",
       "      <td>0.127637</td>\n",
       "      <td>-0.112134</td>\n",
       "      <td>-0.001122</td>\n",
       "      <td>-0.023994</td>\n",
       "      <td>-0.209892</td>\n",
       "      <td>-0.023913</td>\n",
       "    </tr>\n",
       "    <tr>\n",
       "      <th>na_sales</th>\n",
       "      <td>-0.102146</td>\n",
       "      <td>1.000000</td>\n",
       "      <td>0.375865</td>\n",
       "      <td>-0.008540</td>\n",
       "      <td>0.814122</td>\n",
       "      <td>0.414364</td>\n",
       "      <td>0.195912</td>\n",
       "      <td>0.895937</td>\n",
       "    </tr>\n",
       "    <tr>\n",
       "      <th>eu_sales</th>\n",
       "      <td>0.127637</td>\n",
       "      <td>0.375865</td>\n",
       "      <td>1.000000</td>\n",
       "      <td>0.060375</td>\n",
       "      <td>0.784072</td>\n",
       "      <td>0.339446</td>\n",
       "      <td>0.169551</td>\n",
       "      <td>0.741214</td>\n",
       "    </tr>\n",
       "    <tr>\n",
       "      <th>jp_sales</th>\n",
       "      <td>-0.112134</td>\n",
       "      <td>-0.008540</td>\n",
       "      <td>0.060375</td>\n",
       "      <td>1.000000</td>\n",
       "      <td>0.049130</td>\n",
       "      <td>0.143764</td>\n",
       "      <td>0.157549</td>\n",
       "      <td>0.100642</td>\n",
       "    </tr>\n",
       "    <tr>\n",
       "      <th>other_sales</th>\n",
       "      <td>-0.001122</td>\n",
       "      <td>0.814122</td>\n",
       "      <td>0.784072</td>\n",
       "      <td>0.049130</td>\n",
       "      <td>1.000000</td>\n",
       "      <td>0.445578</td>\n",
       "      <td>0.219735</td>\n",
       "      <td>0.962852</td>\n",
       "    </tr>\n",
       "    <tr>\n",
       "      <th>critic_score</th>\n",
       "      <td>-0.023994</td>\n",
       "      <td>0.414364</td>\n",
       "      <td>0.339446</td>\n",
       "      <td>0.143764</td>\n",
       "      <td>0.445578</td>\n",
       "      <td>1.000000</td>\n",
       "      <td>0.634165</td>\n",
       "      <td>0.475908</td>\n",
       "    </tr>\n",
       "    <tr>\n",
       "      <th>user_score</th>\n",
       "      <td>-0.209892</td>\n",
       "      <td>0.195912</td>\n",
       "      <td>0.169551</td>\n",
       "      <td>0.157549</td>\n",
       "      <td>0.219735</td>\n",
       "      <td>0.634165</td>\n",
       "      <td>1.000000</td>\n",
       "      <td>0.236132</td>\n",
       "    </tr>\n",
       "    <tr>\n",
       "      <th>total_sales</th>\n",
       "      <td>-0.023913</td>\n",
       "      <td>0.895937</td>\n",
       "      <td>0.741214</td>\n",
       "      <td>0.100642</td>\n",
       "      <td>0.962852</td>\n",
       "      <td>0.475908</td>\n",
       "      <td>0.236132</td>\n",
       "      <td>1.000000</td>\n",
       "    </tr>\n",
       "  </tbody>\n",
       "</table>\n",
       "</div>"
      ],
      "text/plain": [
       "                 year_of_release  na_sales  eu_sales  jp_sales  other_sales  \\\n",
       "year_of_release         1.000000 -0.102146  0.127637 -0.112134    -0.001122   \n",
       "na_sales               -0.102146  1.000000  0.375865 -0.008540     0.814122   \n",
       "eu_sales                0.127637  0.375865  1.000000  0.060375     0.784072   \n",
       "jp_sales               -0.112134 -0.008540  0.060375  1.000000     0.049130   \n",
       "other_sales            -0.001122  0.814122  0.784072  0.049130     1.000000   \n",
       "critic_score           -0.023994  0.414364  0.339446  0.143764     0.445578   \n",
       "user_score             -0.209892  0.195912  0.169551  0.157549     0.219735   \n",
       "total_sales            -0.023913  0.895937  0.741214  0.100642     0.962852   \n",
       "\n",
       "                 critic_score  user_score  total_sales  \n",
       "year_of_release     -0.023994   -0.209892    -0.023913  \n",
       "na_sales             0.414364    0.195912     0.895937  \n",
       "eu_sales             0.339446    0.169551     0.741214  \n",
       "jp_sales             0.143764    0.157549     0.100642  \n",
       "other_sales          0.445578    0.219735     0.962852  \n",
       "critic_score         1.000000    0.634165     0.475908  \n",
       "user_score           0.634165    1.000000     0.236132  \n",
       "total_sales          0.475908    0.236132     1.000000  "
      ]
     },
     "execution_count": 32,
     "metadata": {},
     "output_type": "execute_result"
    }
   ],
   "source": [
    "x360=filtered_data[filtered_data['platform']=='X360']\n",
    "x360.corr()"
   ]
  },
  {
   "cell_type": "code",
   "execution_count": 33,
   "metadata": {},
   "outputs": [
    {
     "data": {
      "image/png": "[encoded data removed]",
      "text/plain": [
       "<Figure size 640x480 with 1 Axes>"
      ]
     },
     "metadata": {},
     "output_type": "display_data"
    }
   ],
   "source": [
    "#Grafico de dispersión \n",
    "x360.plot(x='user_score', y='total_sales', kind='scatter', title='Reseña de usuario vs ventas totales (millones de USD)', xlabel= 'Reseña de usuarios', ylabel='ventas totales (millones USD)')\n",
    "plt.show()"
   ]
  },
  {
   "cell_type": "code",
   "execution_count": 34,
   "metadata": {},
   "outputs": [
    {
     "data": {
      "image/png": "[encoded data removed]",
      "text/plain": [
       "<Figure size 640x480 with 1 Axes>"
      ]
     },
     "metadata": {},
     "output_type": "display_data"
    }
   ],
   "source": [
    "#Grafico de dispersión de reseña de críticos\n",
    "x360.plot(x='critic_score', y='total_sales', kind='scatter',title='Reseña de usuario vs ventas totales (millones de USD)', xlabel= 'Reseña de usuarios', ylabel='ventas totales (millones USD)')\n",
    "plt.show()"
   ]
  },
  {
   "cell_type": "markdown",
   "metadata": {},
   "source": [
    "De los gráficos de dispersión se puede ver que para los juegos que tienen una puntuación baja, las ventas son bajas, pero cuando la puntuación es alta hay juegos con ventas altas y bajas, esto puede ser porque hay géneros de juegos que no son tan populares por lo que no muchas personas compran sin importar que este tenga una puntuación alta. Otro punto que también puede influir en esto es el rating de cada juego.\n",
    "\n",
    "También se puede ver que hay mayor correlación entre las reseñas de los críticos y las ventas totales, tienen unan correlación 0.47 mientras que las reseñas de los usuarios con las ventas totales es de 0.24 aproximadamente.\n"
   ]
  },
  {
   "cell_type": "markdown",
   "metadata": {},
   "source": [
    "### Se comparan las ventas de los mismo juegos en diferentes plataformas"
   ]
  },
  {
   "cell_type": "markdown",
   "metadata": {},
   "source": [
    "Para este punto se va a escoger cuales son los juegos que más venden, y luego se compararan las ventas de estos juegos en las diferentes plataformas."
   ]
  },
  {
   "cell_type": "code",
   "execution_count": 76,
   "metadata": {},
   "outputs": [],
   "source": [
    "#Agrupar por nombre\n",
    "name_group=filtered_data.groupby('name')[['name','genre','na_sales','eu_sales','jp_sales','other_sales','total_sales']].sum('total_sales').sort_values(by='total_sales', ascending=False).reset_index()\n",
    "top_5_name=name_group.head(5)\n",
    "\n",
    "#Se ponen los nombres de los juegos en una lista\n",
    "name_list=top_5_name['name'].tolist()\n",
    "\n",
    "#Dataframe con los juegos con más ventas \n",
    "top_games_name=filtered_data[filtered_data['name'].isin(name_list)]"
   ]
  },
  {
   "cell_type": "code",
   "execution_count": 104,
   "metadata": {},
   "outputs": [],
   "source": [
    "grouped=top_games_name.groupby(['name','platform'])['total_sales'].sum().reset_index()"
   ]
  },
  {
   "cell_type": "code",
   "execution_count": 109,
   "metadata": {},
   "outputs": [
    {
     "data": {
      "image/png": "[encoded data removed]",
      "text/plain": [
       "<Figure size 640x480 with 1 Axes>"
      ]
     },
     "metadata": {},
     "output_type": "display_data"
    }
   ],
   "source": [
    "sns.barplot(data=grouped, x=\"name\", y=\"total_sales\",hue=\"platform\")\n",
    "plt.legend(bbox_to_anchor=(1.05, 1), loc=2, borderaxespad=0., title='Plataformas')\n",
    "plt.xticks(rotation=90)\n",
    "plt.title('Ventas de juegos en cada plataforma')\n",
    "plt.xlabel('Video juego')\n",
    "plt.ylabel('Ventas totales en millones de USD')\n",
    "plt.show()"
   ]
  },
  {
   "cell_type": "markdown",
   "metadata": {},
   "source": [
    "#### conclusiones\n",
    "se ve de los juegos más vendidos la plataforma PC no vende mucho, Las plataformas que en la mayoria de los juegos vende más es PS3, PS4 y X360. De los top de los juegos la plataforma wii solo se ve que tiene ventas para un juego, skylanders. Lso demás de los juegos más vendidos no estan para esta plataforma. "
   ]
  },
  {
   "cell_type": "markdown",
   "metadata": {},
   "source": [
    "### Distribución general de los juegos por género"
   ]
  },
  {
   "cell_type": "code",
   "execution_count": 39,
   "metadata": {},
   "outputs": [],
   "source": [
    "#Identificar las ventas totales por genero\n",
    "sales_per_genre=filtered_data.groupby('genre')[['genre','na_sales','eu_sales','jp_sales','other_sales','total_sales']].sum('total_sales').sort_values(by='total_sales', ascending=False)\n",
    "sales_per_genre=sales_per_genre.reset_index()"
   ]
  },
  {
   "cell_type": "code",
   "execution_count": 40,
   "metadata": {},
   "outputs": [
    {
     "data": {
      "image/png": "[encoded data removed]",
      "text/plain": [
       "<Figure size 640x480 with 1 Axes>"
      ]
     },
     "metadata": {},
     "output_type": "display_data"
    }
   ],
   "source": [
    "sales_per_genre.plot(x=\"genre\", y=['na_sales','eu_sales','jp_sales','other_sales'], kind=\"bar\", stacked=True,title='Total de ventas en millones por genero',xlabel='Genero',ylabel= 'Ventas totales (millones de USD)')\n",
    "plt.show()"
   ]
  },
  {
   "cell_type": "code",
   "execution_count": 41,
   "metadata": {},
   "outputs": [
    {
     "data": {
      "image/png": "[encoded data removed]",
      "text/plain": [
       "<Figure size 640x480 with 1 Axes>"
      ]
     },
     "metadata": {},
     "output_type": "display_data"
    }
   ],
   "source": [
    "order = filtered_data.groupby(by=[\"genre\"])[\"total_sales\"].median().sort_values().index\n",
    "my_plot=sns.boxplot(data=filtered_data, x='genre',y='total_sales',order=order)\n",
    "my_plot.set_xticklabels(my_plot.get_xticklabels(), rotation=45)\n",
    "plt.title('Distibución de ventas totales de los géneros')\n",
    "plt.show()"
   ]
  },
  {
   "cell_type": "code",
   "execution_count": 42,
   "metadata": {},
   "outputs": [
    {
     "data": {
      "text/plain": [
       "Action          2294\n",
       "Misc            1252\n",
       "Sports          1219\n",
       "Adventure       1042\n",
       "Role-Playing     952\n",
       "Shooter          654\n",
       "Simulation       589\n",
       "Racing           560\n",
       "Strategy         411\n",
       "Fighting         397\n",
       "Puzzle           379\n",
       "Platform         358\n",
       "Name: genre, dtype: int64"
      ]
     },
     "execution_count": 42,
     "metadata": {},
     "output_type": "execute_result"
    }
   ],
   "source": [
    "filtered_data['genre'].value_counts()"
   ]
  },
  {
   "cell_type": "markdown",
   "metadata": {},
   "source": [
    "#### Conclusiones\n",
    "\n",
    "El género de acción vende mucho más que los demás géneros, tiene ventas por más 500 millones de dólares, esto puede ser porque hay más del doble de juegos de este género que el de deporte que es el segundo que más vende. El segundo tipo de juego que más vende es el de deportes, comparado con las ventas de los juegos de acción es mucho más baja, tiene un poco más de 300 millones de dólares en ventas.\n",
    "\n",
    "Con respecto a la distribución se observa que un juego de género shooter es uno de los que más vende junto con los de deportes. y después de estos dos los que más vende es el de acción. Y los juegos que menos ventas tienen son los de aventura y puzzle. También se observa que hay para todos los géneros hay valores atípicos, por lo que quiere decir que hay juegos de todos los géneros que si se venden mucho.\n"
   ]
  },
  {
   "cell_type": "markdown",
   "metadata": {},
   "source": [
    "## Crea un perfil de usuario para cada región"
   ]
  },
  {
   "cell_type": "code",
   "execution_count": 43,
   "metadata": {},
   "outputs": [
    {
     "name": "stdout",
     "output_type": "stream",
     "text": [
      "Las 5 plataformas principales en América\n",
      "  platform  na_sales\n",
      "0       DS    196.01\n",
      "1     X360    180.57\n",
      "2      Wii    179.11\n",
      "3      PS3    136.16\n",
      "4      PS2     94.47\n",
      "\n",
      "Las 5 plataformas principales en Europa\n",
      "  platform  eu_sales\n",
      "0      PS3     92.37\n",
      "1     X360     76.51\n",
      "2       PC     64.42\n",
      "3      Wii     57.36\n",
      "4       DS     45.57\n",
      "\n",
      "Las 5 plataformas principales en Japón\n",
      "  platform  jp_sales\n",
      "0       DS     68.60\n",
      "1      PSP     56.72\n",
      "2      PS3     45.10\n",
      "3      PS2     38.24\n",
      "4      3DS     37.74\n"
     ]
    }
   ],
   "source": [
    "#Las 5 plataformas principales de Norte América\n",
    "na_platform=filtered_data.groupby('platform')['na_sales'].sum().sort_values(ascending=False).nlargest(5).reset_index()\n",
    "\n",
    "#Las 5 plataformas principales de Europa\n",
    "eu_platform=filtered_data.groupby('platform')['eu_sales'].sum().sort_values(ascending=False).nlargest(5).reset_index()\n",
    "\n",
    "#Las 5 plataformas principales de japon\n",
    "jp_platform=filtered_data.groupby('platform')['jp_sales'].sum().sort_values(ascending=False).nlargest(5).reset_index()\n",
    "\n",
    "print('Las 5 plataformas principales en América')\n",
    "print(na_platform)\n",
    "print()\n",
    "print('Las 5 plataformas principales en Europa')\n",
    "print(eu_platform)\n",
    "print()\n",
    "print('Las 5 plataformas principales en Japón')\n",
    "print(jp_platform)"
   ]
  },
  {
   "cell_type": "code",
   "execution_count": 44,
   "metadata": {},
   "outputs": [],
   "source": [
    "#se pone en una lista las top 5 plataformas de cada región \n",
    "lista_na=na_platform['platform'].tolist()\n",
    "lista_eu=eu_platform['platform'].tolist()\n",
    "lista_jp=jp_platform['platform'].tolist()\n",
    "#Se juntan en una lista final los top 5 de cada región\n",
    "lista_top=lista_na+lista_eu+lista_jp\n",
    "lista_top=np.unique(lista_top)"
   ]
  },
  {
   "cell_type": "code",
   "execution_count": 45,
   "metadata": {},
   "outputs": [],
   "source": [
    "#Se hace un dataframe con las plataformas top y las ventas de cada región \n",
    "df_top_platforms=filtered_data[filtered_data['platform'].isin(lista_top)]\n",
    "dicc={'na_sales':'sum','eu_sales':'sum','jp_sales':'sum'}\n",
    "top_platforms_region=df_top_platforms.groupby('platform')\n",
    "top_platforms_region=top_platforms_region.agg(dicc).reset_index()"
   ]
  },
  {
   "cell_type": "code",
   "execution_count": 46,
   "metadata": {},
   "outputs": [
    {
     "data": {
      "image/png": "[encoded data removed]",
      "text/plain": [
       "<Figure size 640x480 with 1 Axes>"
      ]
     },
     "metadata": {},
     "output_type": "display_data"
    }
   ],
   "source": [
    "# Se realiza un gráfico de barras\n",
    "top_platforms_region.plot(x='platform',kind='bar', title='Ventas por región de las plataformas top', xlabel='Plataformas', ylabel='Ventas (millones de USD)')\n",
    "plt.show()"
   ]
  },
  {
   "cell_type": "markdown",
   "metadata": {},
   "source": [
    "#### Conclusiones\n",
    "\n",
    "Se tiene que el top 1 de la plataforma en América y Japón es DS, sin embargo, se ve que en América la cantidad de ventas es mucho mayor que en japón, en cambio la diferencia que tiene con las cantidades de ventas en Europa es mucho menor y en Europa esta plataforma está en puesto número 5 de cantidad de ventas. Se observa que América es la que más ventas tiene en casi todas las plataformas, excepto por pc la cuál es el top 3 de Europa, mientras que en japón no hay registro de ventas de esta plataforma. En la mayoría de plataformas exceptuando por tres (3DS, DS Y PSP) japón es el que registra menos ventas comprado con las otras regiones. Se ve que 3DS es más usada en japón que en las otras regiones. También se ve que el más top de Europa es PS3."
   ]
  },
  {
   "cell_type": "markdown",
   "metadata": {},
   "source": [
    "### Los 5 géneros principales para cada región"
   ]
  },
  {
   "cell_type": "code",
   "execution_count": 47,
   "metadata": {},
   "outputs": [
    {
     "name": "stdout",
     "output_type": "stream",
     "text": [
      "Los 5 géneros principales en América\n",
      "          genre  na_sales\n",
      "0        Action    249.97\n",
      "1        Sports    184.45\n",
      "2          Misc    131.31\n",
      "3       Shooter     88.42\n",
      "4  Role-Playing     73.21\n",
      "\n",
      "Los 5 géneros principales en Europa\n",
      "     genre  eu_sales\n",
      "0   Action    136.86\n",
      "1   Sports     68.66\n",
      "2  Shooter     58.20\n",
      "3     Misc     54.51\n",
      "4   Racing     42.24\n",
      "\n",
      "Los 5 géneros principales en Japón\n",
      "          genre  jp_sales\n",
      "0  Role-Playing     79.30\n",
      "1        Action     70.66\n",
      "2          Misc     37.75\n",
      "3     Adventure     28.26\n",
      "4        Sports     26.38\n"
     ]
    }
   ],
   "source": [
    "#Las 5 plataformas principales de Norte América\n",
    "na_genre=filtered_data.groupby('genre')['na_sales'].sum().sort_values(ascending=False).nlargest(5).reset_index()\n",
    "\n",
    "#Las 5 plataformas principales de Europa\n",
    "eu_genre=filtered_data.groupby('genre')['eu_sales'].sum().sort_values(ascending=False).nlargest(5).reset_index()\n",
    "\n",
    "#Las 5 plataformas principales de japon\n",
    "jp_genre=filtered_data.groupby('genre')['jp_sales'].sum().sort_values(ascending=False).nlargest(5).reset_index()\n",
    "\n",
    "print('Los 5 géneros principales en América')\n",
    "print(na_genre)\n",
    "print()\n",
    "print('Los 5 géneros principales en Europa')\n",
    "print(eu_genre)\n",
    "print()\n",
    "print('Los 5 géneros principales en Japón')\n",
    "print(jp_genre)"
   ]
  },
  {
   "cell_type": "code",
   "execution_count": 48,
   "metadata": {},
   "outputs": [],
   "source": [
    "# se hace una lista con los 5 generos principales de cada región\n",
    "lista_na_genre=na_genre['genre'].tolist()\n",
    "lista_eu_genre=eu_genre['genre'].tolist()\n",
    "lista_jp_genre=jp_genre['genre'].tolist()\n",
    "#Se juntan en una lista final los top 5 de cada región\n",
    "lista_top_genre=lista_na_genre+lista_eu_genre+lista_jp_genre\n",
    "lista_top_genre=np.unique(lista_top_genre)"
   ]
  },
  {
   "cell_type": "code",
   "execution_count": 49,
   "metadata": {},
   "outputs": [],
   "source": [
    "#Se hace un dataframe con las plataformas top y las ventas de cada región \n",
    "df_top_genre=filtered_data[filtered_data['genre'].isin(lista_top_genre)]\n",
    "dicc={'na_sales':'sum','eu_sales':'sum','jp_sales':'sum'}\n",
    "top_genre_region=df_top_genre.groupby('genre')\n",
    "top_genre_region=top_genre_region.agg(dicc).reset_index()"
   ]
  },
  {
   "cell_type": "code",
   "execution_count": 50,
   "metadata": {},
   "outputs": [
    {
     "data": {
      "image/png": "[encoded data removed]",
      "text/plain": [
       "<Figure size 640x480 with 1 Axes>"
      ]
     },
     "metadata": {},
     "output_type": "display_data"
    }
   ],
   "source": [
    "# Se realiza un gráfico de barras\n",
    "top_genre_region.plot(x='genre',kind='bar', title='Ventas por región de los géneros top', xlabel='Géneros', ylabel='Ventas (millones de USD)')\n",
    "plt.show()"
   ]
  },
  {
   "cell_type": "markdown",
   "metadata": {},
   "source": [
    "#### Conclusiones\n",
    "\n",
    "En América y Europa los géneros top 4 son los mismos, que son : acción, deporte, misc, shooter. El 5 más famoso si cambia para estas dos regiones siendo role-play en América y Racing en Europa. Sin embargo, se observa que para estos 4 géneros las ventas en América siempre son mayores en América. En japón el género más top es role-playing, en este es la región que más ventas tiene, seguido de América, y el segundo más comprado en japón es de acción."
   ]
  },
  {
   "cell_type": "markdown",
   "metadata": {},
   "source": [
    "### Ver como las clasificaciones de ESRB afectan las ventas en cada región"
   ]
  },
  {
   "cell_type": "code",
   "execution_count": 51,
   "metadata": {},
   "outputs": [],
   "source": [
    "#Ventas por rating en cada región \n",
    "na_rating=filtered_data.groupby('rating')['na_sales'].sum().sort_values(ascending=False).reset_index()\n",
    "eu_rating=filtered_data.groupby('rating')['eu_sales'].sum().sort_values(ascending=False).reset_index()\n",
    "jp_rating=filtered_data.groupby('rating')['jp_sales'].sum().sort_values(ascending=False).reset_index()\n",
    "\n",
    "rating_sales=na_rating.merge(eu_rating,on='rating')\n",
    "rating_sales=rating_sales.merge(jp_rating, on='rating')"
   ]
  },
  {
   "cell_type": "code",
   "execution_count": 52,
   "metadata": {},
   "outputs": [
    {
     "data": {
      "image/png": "[encoded data removed]",
      "text/plain": [
       "<Figure size 640x480 with 1 Axes>"
      ]
     },
     "metadata": {},
     "output_type": "display_data"
    }
   ],
   "source": [
    "rating_sales.plot(x='rating',kind='bar', title='Venats por región según rating del juego', xlabel='ESRB', ylabel='Ventas (millones de USD)')\n",
    "plt.show()"
   ]
  },
  {
   "cell_type": "markdown",
   "metadata": {},
   "source": [
    "#### Conclusiones\n",
    "\n",
    "En América y Europa se tuvo más ventas cuando tiene la clasificación E y menos ventas con la clasificación M. Para estas dos regiones las ventas se ven afectadas de igual manera con cada clasificación. Mientras que para japón tuvo más ventas los juegos con clasificación T, y la clasificación afecta de manera diferentes las ventas comparada con las otras dos regiones.\n"
   ]
  },
  {
   "cell_type": "markdown",
   "metadata": {},
   "source": [
    "## Pueba de hipótesis"
   ]
  },
  {
   "cell_type": "markdown",
   "metadata": {},
   "source": [
    "### Probar si las calificaciones promedio de los usuarios para las plataformas Xbox One y PC son las mismas.\n",
    "\n",
    "Para este caso vamos a establecer una hipótesis nula y alternativa.\n",
    "\n",
    "**Hipótesis nula:** Las clasificaciones promedio de los usuarios son iguales para las plataformas Xbox One y PC. \n",
    "\n",
    "**Hipótesis alternativa:** Las calificaciones promedio de los usuarios para las plataformas Xbox One y PC son diferentes.\n",
    "\n",
    "**Umbral alpha=** 5%\n",
    "\n",
    "Se hace el analisis de esto como una hipótesis sobre la igualdad de las medias de dos poblaciones"
   ]
  },
  {
   "cell_type": "code",
   "execution_count": 53,
   "metadata": {},
   "outputs": [
    {
     "name": "stdout",
     "output_type": "stream",
     "text": [
      "valor p: 0.007376138751005177\n",
      "Rechaza la hipótesis nula\n"
     ]
    }
   ],
   "source": [
    "alpha=0.05\n",
    "\n",
    "sample1=filtered_data[filtered_data['platform']=='XOne']['user_score'].dropna()\n",
    "sample2=filtered_data[filtered_data['platform']=='PC']['user_score'].dropna()\n",
    "\n",
    "results=st.ttest_ind(sample1,sample2, equal_var=False)\n",
    "\n",
    "#impirmir el valor p\n",
    "print('valor p:', results.pvalue)\n",
    "\n",
    "\n",
    "#compara los valores p obtenidos con el nivel de significación estadística):\n",
    "if results.pvalue<alpha:\n",
    "    print('Rechaza la hipótesis nula')\n",
    "else:\n",
    "    print('No se puede rechazar la hipótesis')"
   ]
  },
  {
   "cell_type": "markdown",
   "metadata": {},
   "source": [
    "### Probar  si las calificaciones promedio de los usuarios para los géneros de Acción y Deportes son diferentes.\n",
    "\n",
    "**Hipótesis nula:** Las clasificaciones promedio de los usuarios son iguales para los géneros de acción y deporte. \n",
    "\n",
    "**Hipótesis alternativa:** Las calificaciones promedio de los usuarios para los géneros de Acción y Deportes son diferentes.\n",
    "\n",
    "**Umbral alpha=** 5%\n",
    "\n",
    "Se hace el analisis de esto como una hipótesis sobre la igualdad de las medias de dos poblaciones"
   ]
  },
  {
   "cell_type": "code",
   "execution_count": 54,
   "metadata": {},
   "outputs": [
    {
     "name": "stdout",
     "output_type": "stream",
     "text": [
      "valor p: 6.796251239329197e-06\n",
      "Rechaza la hipótesis nula\n"
     ]
    }
   ],
   "source": [
    "alpha=0.05\n",
    "\n",
    "sample1=filtered_data[filtered_data['genre']=='Action']['user_score'].dropna()\n",
    "sample2=filtered_data[filtered_data['genre']=='Sports']['user_score'].dropna()\n",
    "\n",
    "results=st.ttest_ind(sample1,sample2, equal_var=False)\n",
    "\n",
    "#impirmir el valor p\n",
    "print('valor p:', results.pvalue)\n",
    "\n",
    "\n",
    "#compara los valores p obtenidos con el nivel de significación estadística):\n",
    "if results.pvalue<alpha:\n",
    "    print('Rechaza la hipótesis nula')\n",
    "else:\n",
    "    print('No se puede rechazar la hipótesis')"
   ]
  },
  {
   "cell_type": "markdown",
   "metadata": {},
   "source": [
    "## Conclusiones\n",
    "\n",
    "Primero se cargo el archivo y se revisaron los datos, se observo que platform, NA_sales,EU_sales, JP_sales y Other_sales no tienen datos ausentes. De la columna names hay 2 datos ausentes, y no tenían mcuha información por lo que se elimino estas filas, y de las demás columnas tiene varios datos ausentes. Algunos valores ausentes del año se reemplazaron cuando tenían el año en el nombre, los demás datos se dejaron como nulos.  Y también se le cambio el tipo de float a int. Los datos ausente en critics_score y user_score no se sustituyeron ya que no hay información sobre esto . Los datos de user_score se cambian a float, y los valores que tienen tbd se ponen como nan porque igualmente no se tiene información sobre esta puntuación.\n",
    "\n",
    "primero se realizo un analisis preliminar con todos los datos, se observo que al principio habían muy pocas plataformas, por lo tanto no salian gran cantidad de video juegos la mercado, a partir del 2005 es que hubo un gran incremento de video juegos que salian al mercado, por lo que se hizo el resto del analisis a partir del 2004 que es cuando se dio el incremento y también habían varias plataformas en el mercado, esto se debe al avance tecnológico que ocurrio en esta época y la facilidad de las personas de tener los elementos que se necesitan para poder jugar. \n",
    "\n",
    "Comparando las ventas en todas las regiones (América, Europa, Japón y otras) se observo que la mayoria de las ventas se dan en América y donde hay menos ventas es en Japón y hay muy pocas ventas en otras partes. Se vio que a partir del 2004 salian al mercado mas o menos dos plataformas cada dos años, hubieron plataformas que se quedaron en el mercado por mucho tiempo y otras que no duraron mucho, una de las que más duro en el mercado es ps2. Las platafomras que les va bien duran en el mercado entre 8 y 11 años. \n",
    "\n",
    "Las plataformas lideres en ventas son: X360, PS3, Wii, DS, PS2. Por otro lado, se puede concluir que cuando los video juegos tienen una puntuación baja las vendas son malas, pero cuando tiene puntuación alta hay juegos que les va bien y otros que no, esto se puede deber a que hay juegos de géneros o clasificaciones que no ha mucha gente le gusta pero tienen una alta puntuación, por lo que no hay muchas ventas. El género de acción es el que más vende en América y Europa, y por esta razón debe ser que hay muchos más juegos en el mercado de este género que de los demás, y por lo tanto es el género que más se vende. \n",
    "Los generos más famosos son acción, deporte, misc, shooter.\n",
    "\n",
    "De las pruebas de hipótesis podemos concluir que las reseñas de los usuarios para los juegos de Xbox One y PC son diferentes, esto puede ser por que las ventas de PC son mucho menores que las de Xbox One. Por otro lado concluye que la reseñas de los usuarios para los géneros de acción y deportes son diferentes."
   ]
  }
 ],
 "metadata": {
  "ExecuteTimeLog": [
   {
    "duration": 2580,
    "start_time": "2024-09-27T21:01:05.251Z"
   },
   {
    "duration": 2,
    "start_time": "2024-09-27T21:01:46.048Z"
   },
   {
    "duration": 40,
    "start_time": "2024-09-27T21:03:03.312Z"
   },
   {
    "duration": 18,
    "start_time": "2024-09-27T21:03:06.344Z"
   },
   {
    "duration": 12,
    "start_time": "2024-09-27T21:03:14.083Z"
   },
   {
    "duration": 14,
    "start_time": "2024-09-27T21:03:57.019Z"
   },
   {
    "duration": 15,
    "start_time": "2024-09-27T21:05:35.420Z"
   },
   {
    "duration": 2,
    "start_time": "2024-09-27T21:22:32.706Z"
   },
   {
    "duration": 3,
    "start_time": "2024-09-27T21:25:34.342Z"
   },
   {
    "duration": 217,
    "start_time": "2024-09-27T21:25:47.532Z"
   },
   {
    "duration": 2,
    "start_time": "2024-09-27T21:27:24.866Z"
   },
   {
    "duration": 19,
    "start_time": "2024-09-27T21:27:27.861Z"
   },
   {
    "duration": 85,
    "start_time": "2024-09-27T21:29:12.147Z"
   },
   {
    "duration": 18,
    "start_time": "2024-09-27T21:29:26.282Z"
   },
   {
    "duration": 607,
    "start_time": "2024-09-27T21:30:16.160Z"
   },
   {
    "duration": 48,
    "start_time": "2024-09-27T21:30:23.851Z"
   },
   {
    "duration": 48,
    "start_time": "2024-09-27T21:33:14.588Z"
   },
   {
    "duration": 57,
    "start_time": "2024-09-27T21:33:34.341Z"
   },
   {
    "duration": 50,
    "start_time": "2024-09-27T21:33:51.342Z"
   },
   {
    "duration": 4,
    "start_time": "2024-09-27T21:34:09.500Z"
   },
   {
    "duration": 11,
    "start_time": "2024-09-27T21:34:17.685Z"
   },
   {
    "duration": 5,
    "start_time": "2024-09-27T21:35:05.546Z"
   },
   {
    "duration": 11,
    "start_time": "2024-09-27T21:35:17.834Z"
   },
   {
    "duration": 3,
    "start_time": "2024-09-27T21:47:49.405Z"
   },
   {
    "duration": 11,
    "start_time": "2024-09-27T21:47:56.113Z"
   },
   {
    "duration": 56,
    "start_time": "2024-09-27T21:48:22.661Z"
   },
   {
    "duration": 42,
    "start_time": "2024-09-27T21:49:56.042Z"
   },
   {
    "duration": 38,
    "start_time": "2024-09-27T21:50:11.658Z"
   },
   {
    "duration": 49,
    "start_time": "2024-09-27T21:50:21.138Z"
   },
   {
    "duration": 3,
    "start_time": "2024-09-27T21:50:33.555Z"
   },
   {
    "duration": 12,
    "start_time": "2024-09-27T21:50:39.050Z"
   },
   {
    "duration": 36,
    "start_time": "2024-09-27T21:52:05.993Z"
   },
   {
    "duration": 4,
    "start_time": "2024-09-27T21:54:07.329Z"
   },
   {
    "duration": 11,
    "start_time": "2024-09-27T21:54:12.510Z"
   },
   {
    "duration": 24,
    "start_time": "2024-09-27T21:55:44.982Z"
   },
   {
    "duration": 41,
    "start_time": "2024-09-27T21:55:51.367Z"
   },
   {
    "duration": 3,
    "start_time": "2024-09-27T21:56:45.790Z"
   },
   {
    "duration": 7,
    "start_time": "2024-09-27T21:56:53.413Z"
   },
   {
    "duration": 12,
    "start_time": "2024-09-27T21:56:58.642Z"
   },
   {
    "duration": 14,
    "start_time": "2024-09-27T21:57:47.512Z"
   },
   {
    "duration": 11,
    "start_time": "2024-09-27T21:58:31.223Z"
   },
   {
    "duration": 9,
    "start_time": "2024-09-27T22:00:09.151Z"
   },
   {
    "duration": 5,
    "start_time": "2024-09-27T22:00:46.321Z"
   },
   {
    "duration": 4,
    "start_time": "2024-09-27T22:01:18.361Z"
   },
   {
    "duration": 10,
    "start_time": "2024-09-27T22:01:20.850Z"
   },
   {
    "duration": 5,
    "start_time": "2024-09-27T22:02:40.935Z"
   },
   {
    "duration": 5,
    "start_time": "2024-09-27T22:02:50.022Z"
   },
   {
    "duration": 6,
    "start_time": "2024-09-27T22:03:37.188Z"
   },
   {
    "duration": 6,
    "start_time": "2024-09-27T22:03:40.550Z"
   },
   {
    "duration": 17,
    "start_time": "2024-09-27T22:04:22.255Z"
   },
   {
    "duration": 7,
    "start_time": "2024-09-27T22:04:32.700Z"
   },
   {
    "duration": 23,
    "start_time": "2024-09-27T22:04:33.948Z"
   },
   {
    "duration": 11,
    "start_time": "2024-09-27T22:06:34.104Z"
   },
   {
    "duration": 7,
    "start_time": "2024-09-27T22:13:10.252Z"
   },
   {
    "duration": 263,
    "start_time": "2024-09-27T22:13:23.977Z"
   },
   {
    "duration": 22,
    "start_time": "2024-09-27T22:15:11.761Z"
   },
   {
    "duration": 20,
    "start_time": "2024-09-27T22:15:19.981Z"
   },
   {
    "duration": 26,
    "start_time": "2024-09-27T22:15:44.794Z"
   },
   {
    "duration": 11,
    "start_time": "2024-09-27T22:15:59.138Z"
   },
   {
    "duration": 15,
    "start_time": "2024-09-27T22:17:28.137Z"
   },
   {
    "duration": 39,
    "start_time": "2024-09-27T22:17:46.693Z"
   },
   {
    "duration": 20,
    "start_time": "2024-09-27T22:18:28.025Z"
   },
   {
    "duration": 19,
    "start_time": "2024-09-27T22:18:37.169Z"
   },
   {
    "duration": 11,
    "start_time": "2024-09-27T22:18:45.854Z"
   },
   {
    "duration": 7,
    "start_time": "2024-09-27T22:19:00.996Z"
   },
   {
    "duration": 11,
    "start_time": "2024-09-27T22:19:01.807Z"
   },
   {
    "duration": 18,
    "start_time": "2024-09-27T22:20:16.746Z"
   },
   {
    "duration": 13,
    "start_time": "2024-09-27T22:21:31.986Z"
   },
   {
    "duration": 5,
    "start_time": "2024-09-27T22:21:34.761Z"
   },
   {
    "duration": 6,
    "start_time": "2024-09-27T22:22:13.397Z"
   },
   {
    "duration": 4,
    "start_time": "2024-09-27T22:22:18.105Z"
   },
   {
    "duration": 6,
    "start_time": "2024-09-27T22:22:36.591Z"
   },
   {
    "duration": 4,
    "start_time": "2024-09-27T22:36:17.504Z"
   },
   {
    "duration": 28,
    "start_time": "2024-09-27T22:36:25.636Z"
   },
   {
    "duration": 16,
    "start_time": "2024-09-27T22:38:02.029Z"
   },
   {
    "duration": 10,
    "start_time": "2024-09-27T22:50:42.519Z"
   },
   {
    "duration": 13,
    "start_time": "2024-09-27T22:51:02.288Z"
   },
   {
    "duration": 9,
    "start_time": "2024-09-27T22:51:37.099Z"
   },
   {
    "duration": 17,
    "start_time": "2024-09-27T22:54:37.975Z"
   },
   {
    "duration": 17,
    "start_time": "2024-09-27T22:58:11.029Z"
   },
   {
    "duration": 3,
    "start_time": "2024-09-27T23:08:35.826Z"
   },
   {
    "duration": 5,
    "start_time": "2024-09-27T23:08:48.336Z"
   },
   {
    "duration": 31,
    "start_time": "2024-09-27T23:11:53.625Z"
   },
   {
    "duration": 329,
    "start_time": "2024-09-27T23:13:05.516Z"
   },
   {
    "duration": 5,
    "start_time": "2024-09-27T23:13:47.610Z"
   },
   {
    "duration": 3,
    "start_time": "2024-09-27T23:13:56.672Z"
   },
   {
    "duration": 67,
    "start_time": "2024-09-27T23:15:07.104Z"
   },
   {
    "duration": 18,
    "start_time": "2024-09-27T23:17:20.501Z"
   },
   {
    "duration": 53,
    "start_time": "2024-09-27T23:19:11.580Z"
   },
   {
    "duration": 46,
    "start_time": "2024-09-27T23:19:54.512Z"
   },
   {
    "duration": 44,
    "start_time": "2024-09-27T23:20:03.428Z"
   },
   {
    "duration": 48,
    "start_time": "2024-09-27T23:20:40.019Z"
   },
   {
    "duration": 5,
    "start_time": "2024-09-27T23:20:52.311Z"
   },
   {
    "duration": 16,
    "start_time": "2024-09-27T23:21:38.075Z"
   },
   {
    "duration": 21,
    "start_time": "2024-09-27T23:21:52.411Z"
   },
   {
    "duration": 5,
    "start_time": "2024-09-27T23:22:14.927Z"
   },
   {
    "duration": 47,
    "start_time": "2024-09-27T23:22:38.134Z"
   },
   {
    "duration": 4,
    "start_time": "2024-09-27T23:23:11.244Z"
   },
   {
    "duration": 3,
    "start_time": "2024-09-27T23:23:33.664Z"
   },
   {
    "duration": 16,
    "start_time": "2024-09-27T23:24:54.062Z"
   },
   {
    "duration": 4,
    "start_time": "2024-09-27T23:25:51.431Z"
   },
   {
    "duration": 4,
    "start_time": "2024-09-27T23:26:12.792Z"
   },
   {
    "duration": 809,
    "start_time": "2024-09-27T23:27:41.474Z"
   },
   {
    "duration": 24,
    "start_time": "2024-09-27T23:27:43.504Z"
   },
   {
    "duration": 12,
    "start_time": "2024-09-27T23:27:45.199Z"
   },
   {
    "duration": 2,
    "start_time": "2024-09-27T23:27:48.931Z"
   },
   {
    "duration": 14,
    "start_time": "2024-09-27T23:27:50.007Z"
   },
   {
    "duration": 7,
    "start_time": "2024-09-27T23:27:57.212Z"
   },
   {
    "duration": 13,
    "start_time": "2024-09-27T23:28:00.050Z"
   },
   {
    "duration": 7,
    "start_time": "2024-09-27T23:28:08.531Z"
   },
   {
    "duration": 6,
    "start_time": "2024-09-27T23:28:12.754Z"
   },
   {
    "duration": 4,
    "start_time": "2024-09-27T23:28:18.371Z"
   },
   {
    "duration": 3,
    "start_time": "2024-09-27T23:28:23.279Z"
   },
   {
    "duration": 3,
    "start_time": "2024-09-27T23:28:31.859Z"
   },
   {
    "duration": 4,
    "start_time": "2024-09-27T23:33:03.745Z"
   },
   {
    "duration": 3,
    "start_time": "2024-09-27T23:33:31.777Z"
   },
   {
    "duration": 16,
    "start_time": "2024-09-27T23:33:35.403Z"
   },
   {
    "duration": 688,
    "start_time": "2024-09-27T23:33:45.158Z"
   },
   {
    "duration": 13,
    "start_time": "2024-09-27T23:34:42.764Z"
   },
   {
    "duration": 10,
    "start_time": "2024-09-27T23:34:47.234Z"
   },
   {
    "duration": 3,
    "start_time": "2024-09-27T23:35:37.562Z"
   },
   {
    "duration": 10,
    "start_time": "2024-09-27T23:35:38.293Z"
   },
   {
    "duration": 5,
    "start_time": "2024-09-27T23:40:11.596Z"
   },
   {
    "duration": 96,
    "start_time": "2024-09-27T23:40:16.807Z"
   },
   {
    "duration": 13,
    "start_time": "2024-09-27T23:40:55.210Z"
   },
   {
    "duration": 40,
    "start_time": "2024-09-27T23:42:23.372Z"
   },
   {
    "duration": 828,
    "start_time": "2024-09-27T23:42:55.660Z"
   },
   {
    "duration": 25,
    "start_time": "2024-09-27T23:42:56.491Z"
   },
   {
    "duration": 12,
    "start_time": "2024-09-27T23:42:56.518Z"
   },
   {
    "duration": 2,
    "start_time": "2024-09-27T23:42:56.532Z"
   },
   {
    "duration": 14,
    "start_time": "2024-09-27T23:42:56.536Z"
   },
   {
    "duration": 35,
    "start_time": "2024-09-27T23:42:56.552Z"
   },
   {
    "duration": 13,
    "start_time": "2024-09-27T23:42:56.589Z"
   },
   {
    "duration": 7,
    "start_time": "2024-09-27T23:42:56.604Z"
   },
   {
    "duration": 6,
    "start_time": "2024-09-27T23:42:56.612Z"
   },
   {
    "duration": 4,
    "start_time": "2024-09-27T23:42:56.619Z"
   },
   {
    "duration": 3,
    "start_time": "2024-09-27T23:42:56.625Z"
   },
   {
    "duration": 16,
    "start_time": "2024-09-27T23:42:56.629Z"
   },
   {
    "duration": 38,
    "start_time": "2024-09-27T23:43:03.739Z"
   },
   {
    "duration": 11,
    "start_time": "2024-09-27T23:43:11.306Z"
   },
   {
    "duration": 10,
    "start_time": "2024-09-27T23:43:29.828Z"
   },
   {
    "duration": 37,
    "start_time": "2024-09-27T23:44:21.010Z"
   },
   {
    "duration": 10,
    "start_time": "2024-09-27T23:44:26.778Z"
   },
   {
    "duration": 16,
    "start_time": "2024-09-27T23:44:52.459Z"
   },
   {
    "duration": 5,
    "start_time": "2024-09-28T00:05:15.573Z"
   },
   {
    "duration": 171,
    "start_time": "2024-09-28T00:05:23.568Z"
   },
   {
    "duration": 5,
    "start_time": "2024-09-28T00:05:26.644Z"
   },
   {
    "duration": 6,
    "start_time": "2024-09-28T00:05:34.561Z"
   },
   {
    "duration": 934,
    "start_time": "2024-09-28T00:07:58.795Z"
   },
   {
    "duration": 27,
    "start_time": "2024-09-28T00:07:59.731Z"
   },
   {
    "duration": 27,
    "start_time": "2024-09-28T00:07:59.760Z"
   },
   {
    "duration": 4,
    "start_time": "2024-09-28T00:07:59.789Z"
   },
   {
    "duration": 15,
    "start_time": "2024-09-28T00:07:59.796Z"
   },
   {
    "duration": 8,
    "start_time": "2024-09-28T00:07:59.813Z"
   },
   {
    "duration": 19,
    "start_time": "2024-09-28T00:07:59.824Z"
   },
   {
    "duration": 8,
    "start_time": "2024-09-28T00:07:59.846Z"
   },
   {
    "duration": 28,
    "start_time": "2024-09-28T00:07:59.864Z"
   },
   {
    "duration": 5,
    "start_time": "2024-09-28T00:07:59.894Z"
   },
   {
    "duration": 5,
    "start_time": "2024-09-28T00:07:59.901Z"
   },
   {
    "duration": 21,
    "start_time": "2024-09-28T00:07:59.908Z"
   },
   {
    "duration": 47,
    "start_time": "2024-09-28T00:08:10.826Z"
   },
   {
    "duration": 13,
    "start_time": "2024-09-28T00:08:18.444Z"
   },
   {
    "duration": 6,
    "start_time": "2024-09-28T00:08:28.356Z"
   },
   {
    "duration": 17,
    "start_time": "2024-09-28T00:11:08.272Z"
   },
   {
    "duration": 28,
    "start_time": "2024-09-28T00:11:47.869Z"
   },
   {
    "duration": 12,
    "start_time": "2024-09-28T00:14:19.258Z"
   },
   {
    "duration": 6,
    "start_time": "2024-09-28T00:18:01.456Z"
   },
   {
    "duration": 11,
    "start_time": "2024-09-28T00:18:12.257Z"
   },
   {
    "duration": 16,
    "start_time": "2024-09-28T00:19:28.040Z"
   },
   {
    "duration": 16,
    "start_time": "2024-09-28T00:19:47.438Z"
   },
   {
    "duration": 12,
    "start_time": "2024-09-28T00:51:19.725Z"
   },
   {
    "duration": 17,
    "start_time": "2024-09-28T01:01:51.709Z"
   },
   {
    "duration": 5,
    "start_time": "2024-09-28T01:02:55.848Z"
   },
   {
    "duration": 2450,
    "start_time": "2024-09-30T14:27:14.392Z"
   },
   {
    "duration": 37,
    "start_time": "2024-09-30T14:27:17.853Z"
   },
   {
    "duration": 12,
    "start_time": "2024-09-30T14:27:20.275Z"
   },
   {
    "duration": 3,
    "start_time": "2024-09-30T14:27:27.671Z"
   },
   {
    "duration": 12,
    "start_time": "2024-09-30T14:27:29.235Z"
   },
   {
    "duration": 6,
    "start_time": "2024-09-30T14:27:38.224Z"
   },
   {
    "duration": 12,
    "start_time": "2024-09-30T14:27:43.495Z"
   },
   {
    "duration": 7,
    "start_time": "2024-09-30T14:28:04.568Z"
   },
   {
    "duration": 5,
    "start_time": "2024-09-30T14:28:45.243Z"
   },
   {
    "duration": 3,
    "start_time": "2024-09-30T14:29:04.040Z"
   },
   {
    "duration": 3,
    "start_time": "2024-09-30T14:29:32.236Z"
   },
   {
    "duration": 4,
    "start_time": "2024-09-30T14:29:36.512Z"
   },
   {
    "duration": 6,
    "start_time": "2024-09-30T14:30:11.514Z"
   },
   {
    "duration": 3,
    "start_time": "2024-09-30T14:31:20.458Z"
   },
   {
    "duration": 5,
    "start_time": "2024-09-30T14:31:27.169Z"
   },
   {
    "duration": 3,
    "start_time": "2024-09-30T14:31:33.365Z"
   },
   {
    "duration": 17,
    "start_time": "2024-09-30T14:31:42.429Z"
   },
   {
    "duration": 38,
    "start_time": "2024-09-30T14:31:52.473Z"
   },
   {
    "duration": 5,
    "start_time": "2024-09-30T14:31:54.400Z"
   },
   {
    "duration": 6,
    "start_time": "2024-09-30T14:32:31.857Z"
   },
   {
    "duration": 409,
    "start_time": "2024-09-30T14:36:53.059Z"
   },
   {
    "duration": 8,
    "start_time": "2024-09-30T14:37:11.814Z"
   },
   {
    "duration": 7,
    "start_time": "2024-09-30T14:37:56.991Z"
   },
   {
    "duration": 10,
    "start_time": "2024-09-30T14:38:11.234Z"
   },
   {
    "duration": 10,
    "start_time": "2024-09-30T14:53:17.106Z"
   },
   {
    "duration": 585,
    "start_time": "2024-09-30T14:55:55.961Z"
   },
   {
    "duration": 4,
    "start_time": "2024-09-30T15:02:58.232Z"
   },
   {
    "duration": 5,
    "start_time": "2024-09-30T15:07:09.034Z"
   },
   {
    "duration": 10,
    "start_time": "2024-09-30T15:18:32.355Z"
   },
   {
    "duration": 787,
    "start_time": "2024-09-30T15:19:02.528Z"
   },
   {
    "duration": 28,
    "start_time": "2024-09-30T15:19:03.317Z"
   },
   {
    "duration": 11,
    "start_time": "2024-09-30T15:19:03.347Z"
   },
   {
    "duration": 3,
    "start_time": "2024-09-30T15:19:03.360Z"
   },
   {
    "duration": 12,
    "start_time": "2024-09-30T15:19:03.366Z"
   },
   {
    "duration": 6,
    "start_time": "2024-09-30T15:19:03.380Z"
   },
   {
    "duration": 41,
    "start_time": "2024-09-30T15:19:03.388Z"
   },
   {
    "duration": 6,
    "start_time": "2024-09-30T15:19:03.431Z"
   },
   {
    "duration": 9,
    "start_time": "2024-09-30T15:19:03.439Z"
   },
   {
    "duration": 5,
    "start_time": "2024-09-30T15:19:03.450Z"
   },
   {
    "duration": 3,
    "start_time": "2024-09-30T15:19:03.457Z"
   },
   {
    "duration": 15,
    "start_time": "2024-09-30T15:19:03.461Z"
   },
   {
    "duration": 69,
    "start_time": "2024-09-30T15:19:03.478Z"
   },
   {
    "duration": 6,
    "start_time": "2024-09-30T15:19:03.550Z"
   },
   {
    "duration": 11,
    "start_time": "2024-09-30T15:19:13.587Z"
   },
   {
    "duration": 4,
    "start_time": "2024-09-30T15:21:31.734Z"
   },
   {
    "duration": 11,
    "start_time": "2024-09-30T16:46:17.968Z"
   },
   {
    "duration": 3,
    "start_time": "2024-09-30T17:04:28.728Z"
   },
   {
    "duration": 5,
    "start_time": "2024-09-30T17:04:34.388Z"
   },
   {
    "duration": 10,
    "start_time": "2024-09-30T17:04:37.101Z"
   },
   {
    "duration": 16,
    "start_time": "2024-09-30T17:04:51.031Z"
   },
   {
    "duration": 783,
    "start_time": "2024-09-30T17:05:34.331Z"
   },
   {
    "duration": 24,
    "start_time": "2024-09-30T17:05:35.116Z"
   },
   {
    "duration": 10,
    "start_time": "2024-09-30T17:05:35.143Z"
   },
   {
    "duration": 2,
    "start_time": "2024-09-30T17:05:35.155Z"
   },
   {
    "duration": 11,
    "start_time": "2024-09-30T17:05:35.161Z"
   },
   {
    "duration": 7,
    "start_time": "2024-09-30T17:05:35.174Z"
   },
   {
    "duration": 46,
    "start_time": "2024-09-30T17:05:35.183Z"
   },
   {
    "duration": 7,
    "start_time": "2024-09-30T17:05:35.231Z"
   },
   {
    "duration": 10,
    "start_time": "2024-09-30T17:05:35.239Z"
   },
   {
    "duration": 5,
    "start_time": "2024-09-30T17:05:35.251Z"
   },
   {
    "duration": 3,
    "start_time": "2024-09-30T17:05:35.258Z"
   },
   {
    "duration": 16,
    "start_time": "2024-09-30T17:05:35.263Z"
   },
   {
    "duration": 73,
    "start_time": "2024-09-30T17:05:35.280Z"
   },
   {
    "duration": 7,
    "start_time": "2024-09-30T17:05:35.356Z"
   },
   {
    "duration": 10,
    "start_time": "2024-09-30T17:05:35.364Z"
   },
   {
    "duration": 4,
    "start_time": "2024-09-30T17:05:58.862Z"
   },
   {
    "duration": 14,
    "start_time": "2024-09-30T17:05:59.668Z"
   },
   {
    "duration": 774,
    "start_time": "2024-09-30T17:06:43.984Z"
   },
   {
    "duration": 23,
    "start_time": "2024-09-30T17:06:44.760Z"
   },
   {
    "duration": 11,
    "start_time": "2024-09-30T17:06:44.785Z"
   },
   {
    "duration": 3,
    "start_time": "2024-09-30T17:06:44.797Z"
   },
   {
    "duration": 28,
    "start_time": "2024-09-30T17:06:44.803Z"
   },
   {
    "duration": 7,
    "start_time": "2024-09-30T17:06:44.832Z"
   },
   {
    "duration": 11,
    "start_time": "2024-09-30T17:06:44.841Z"
   },
   {
    "duration": 6,
    "start_time": "2024-09-30T17:06:44.853Z"
   },
   {
    "duration": 8,
    "start_time": "2024-09-30T17:06:44.860Z"
   },
   {
    "duration": 4,
    "start_time": "2024-09-30T17:06:44.870Z"
   },
   {
    "duration": 3,
    "start_time": "2024-09-30T17:06:44.876Z"
   },
   {
    "duration": 51,
    "start_time": "2024-09-30T17:06:44.881Z"
   },
   {
    "duration": 41,
    "start_time": "2024-09-30T17:06:44.933Z"
   },
   {
    "duration": 6,
    "start_time": "2024-09-30T17:06:44.977Z"
   },
   {
    "duration": 9,
    "start_time": "2024-09-30T17:06:44.985Z"
   },
   {
    "duration": 288,
    "start_time": "2024-09-30T17:07:04.208Z"
   },
   {
    "duration": 4,
    "start_time": "2024-09-30T17:07:47.617Z"
   },
   {
    "duration": 18,
    "start_time": "2024-09-30T17:07:52.237Z"
   },
   {
    "duration": 768,
    "start_time": "2024-09-30T17:08:23.101Z"
   },
   {
    "duration": 24,
    "start_time": "2024-09-30T17:08:23.872Z"
   },
   {
    "duration": 10,
    "start_time": "2024-09-30T17:08:23.898Z"
   },
   {
    "duration": 2,
    "start_time": "2024-09-30T17:08:23.910Z"
   },
   {
    "duration": 11,
    "start_time": "2024-09-30T17:08:23.925Z"
   },
   {
    "duration": 6,
    "start_time": "2024-09-30T17:08:23.938Z"
   },
   {
    "duration": 11,
    "start_time": "2024-09-30T17:08:23.946Z"
   },
   {
    "duration": 5,
    "start_time": "2024-09-30T17:08:23.959Z"
   },
   {
    "duration": 10,
    "start_time": "2024-09-30T17:08:23.965Z"
   },
   {
    "duration": 5,
    "start_time": "2024-09-30T17:08:23.976Z"
   },
   {
    "duration": 3,
    "start_time": "2024-09-30T17:08:23.982Z"
   },
   {
    "duration": 16,
    "start_time": "2024-09-30T17:08:24.024Z"
   },
   {
    "duration": 40,
    "start_time": "2024-09-30T17:08:24.042Z"
   },
   {
    "duration": 8,
    "start_time": "2024-09-30T17:08:24.085Z"
   },
   {
    "duration": 31,
    "start_time": "2024-09-30T17:08:24.094Z"
   },
   {
    "duration": 5,
    "start_time": "2024-09-30T17:08:46.071Z"
   },
   {
    "duration": 15,
    "start_time": "2024-09-30T17:08:50.309Z"
   },
   {
    "duration": 11,
    "start_time": "2024-09-30T17:09:03.803Z"
   },
   {
    "duration": 6,
    "start_time": "2024-09-30T17:10:42.695Z"
   },
   {
    "duration": 6,
    "start_time": "2024-09-30T17:16:09.627Z"
   },
   {
    "duration": 10,
    "start_time": "2024-09-30T17:24:47.779Z"
   },
   {
    "duration": 3,
    "start_time": "2024-09-30T17:45:06.046Z"
   },
   {
    "duration": 16,
    "start_time": "2024-09-30T17:45:14.279Z"
   },
   {
    "duration": 3,
    "start_time": "2024-09-30T17:45:32.543Z"
   },
   {
    "duration": 19,
    "start_time": "2024-09-30T17:45:33.155Z"
   },
   {
    "duration": 16,
    "start_time": "2024-09-30T17:46:33.244Z"
   },
   {
    "duration": 15,
    "start_time": "2024-09-30T17:46:53.030Z"
   },
   {
    "duration": 10,
    "start_time": "2024-09-30T17:48:01.459Z"
   },
   {
    "duration": 529,
    "start_time": "2024-09-30T18:10:10.280Z"
   },
   {
    "duration": 19,
    "start_time": "2024-09-30T18:10:34.322Z"
   },
   {
    "duration": 14,
    "start_time": "2024-09-30T18:11:29.673Z"
   },
   {
    "duration": 7,
    "start_time": "2024-09-30T18:11:36.397Z"
   },
   {
    "duration": 25,
    "start_time": "2024-09-30T18:11:51.877Z"
   },
   {
    "duration": 201,
    "start_time": "2024-09-30T18:12:36.659Z"
   },
   {
    "duration": 6,
    "start_time": "2024-09-30T18:12:47.995Z"
   },
   {
    "duration": 6,
    "start_time": "2024-09-30T18:13:00.782Z"
   },
   {
    "duration": 6,
    "start_time": "2024-09-30T18:13:02.257Z"
   },
   {
    "duration": 29,
    "start_time": "2024-09-30T18:13:53.183Z"
   },
   {
    "duration": 137,
    "start_time": "2024-09-30T18:24:46.277Z"
   },
   {
    "duration": 141449,
    "start_time": "2024-09-30T18:25:00.852Z"
   },
   {
    "duration": 760,
    "start_time": "2024-09-30T18:27:36.784Z"
   },
   {
    "duration": 24,
    "start_time": "2024-09-30T18:27:37.546Z"
   },
   {
    "duration": 11,
    "start_time": "2024-09-30T18:27:37.571Z"
   },
   {
    "duration": 2,
    "start_time": "2024-09-30T18:27:37.584Z"
   },
   {
    "duration": 12,
    "start_time": "2024-09-30T18:27:37.589Z"
   },
   {
    "duration": 28,
    "start_time": "2024-09-30T18:27:37.602Z"
   },
   {
    "duration": 11,
    "start_time": "2024-09-30T18:27:37.632Z"
   },
   {
    "duration": 6,
    "start_time": "2024-09-30T18:27:37.645Z"
   },
   {
    "duration": 8,
    "start_time": "2024-09-30T18:27:37.653Z"
   },
   {
    "duration": 5,
    "start_time": "2024-09-30T18:27:37.663Z"
   },
   {
    "duration": 4,
    "start_time": "2024-09-30T18:27:37.670Z"
   },
   {
    "duration": 49,
    "start_time": "2024-09-30T18:27:37.676Z"
   },
   {
    "duration": 42,
    "start_time": "2024-09-30T18:27:37.727Z"
   },
   {
    "duration": 6,
    "start_time": "2024-09-30T18:27:37.772Z"
   },
   {
    "duration": 6,
    "start_time": "2024-09-30T18:27:37.780Z"
   },
   {
    "duration": 38,
    "start_time": "2024-09-30T18:27:37.787Z"
   },
   {
    "duration": 4,
    "start_time": "2024-09-30T18:27:37.827Z"
   },
   {
    "duration": 271,
    "start_time": "2024-09-30T18:28:18.192Z"
   },
   {
    "duration": 6,
    "start_time": "2024-09-30T18:28:24.869Z"
   },
   {
    "duration": 114,
    "start_time": "2024-09-30T18:28:26.016Z"
   },
   {
    "duration": 10,
    "start_time": "2024-09-30T18:28:59.721Z"
   },
   {
    "duration": 7,
    "start_time": "2024-09-30T18:30:22.188Z"
   },
   {
    "duration": 81,
    "start_time": "2024-09-30T18:30:32.575Z"
   },
   {
    "duration": 7,
    "start_time": "2024-09-30T18:30:49.317Z"
   },
   {
    "duration": 115,
    "start_time": "2024-09-30T18:31:21.237Z"
   },
   {
    "duration": 5,
    "start_time": "2024-09-30T18:35:49.073Z"
   },
   {
    "duration": 3,
    "start_time": "2024-09-30T18:36:37.277Z"
   },
   {
    "duration": 8,
    "start_time": "2024-09-30T18:36:47.949Z"
   },
   {
    "duration": 3,
    "start_time": "2024-09-30T18:37:49.621Z"
   },
   {
    "duration": 4,
    "start_time": "2024-09-30T18:37:58.647Z"
   },
   {
    "duration": 17,
    "start_time": "2024-09-30T18:38:21.058Z"
   },
   {
    "duration": 5,
    "start_time": "2024-09-30T18:42:23.213Z"
   },
   {
    "duration": 15,
    "start_time": "2024-09-30T18:43:26.030Z"
   },
   {
    "duration": 370,
    "start_time": "2024-09-30T18:43:34.857Z"
   },
   {
    "duration": 4,
    "start_time": "2024-09-30T18:44:01.986Z"
   },
   {
    "duration": 28,
    "start_time": "2024-09-30T18:44:11.360Z"
   },
   {
    "duration": 8,
    "start_time": "2024-09-30T18:44:27.774Z"
   },
   {
    "duration": 6,
    "start_time": "2024-09-30T18:45:31.454Z"
   },
   {
    "duration": 9,
    "start_time": "2024-09-30T18:45:32.152Z"
   },
   {
    "duration": 5,
    "start_time": "2024-09-30T18:46:03.853Z"
   },
   {
    "duration": 6,
    "start_time": "2024-09-30T18:46:57.393Z"
   },
   {
    "duration": 6,
    "start_time": "2024-09-30T18:47:09.181Z"
   },
   {
    "duration": 3,
    "start_time": "2024-09-30T18:48:19.004Z"
   },
   {
    "duration": 131,
    "start_time": "2024-09-30T18:48:34.062Z"
   },
   {
    "duration": 6,
    "start_time": "2024-09-30T18:49:03.993Z"
   },
   {
    "duration": 61,
    "start_time": "2024-09-30T18:49:53.835Z"
   },
   {
    "duration": 32,
    "start_time": "2024-09-30T18:50:31.714Z"
   },
   {
    "duration": 4,
    "start_time": "2024-09-30T18:50:46.174Z"
   },
   {
    "duration": 7,
    "start_time": "2024-09-30T18:50:59.398Z"
   },
   {
    "duration": 5,
    "start_time": "2024-09-30T18:51:18.982Z"
   },
   {
    "duration": 6,
    "start_time": "2024-09-30T18:51:22.553Z"
   },
   {
    "duration": 468,
    "start_time": "2024-09-30T18:51:43.332Z"
   },
   {
    "duration": 6,
    "start_time": "2024-09-30T18:52:09.447Z"
   },
   {
    "duration": 4,
    "start_time": "2024-09-30T18:52:25.972Z"
   },
   {
    "duration": 3,
    "start_time": "2024-09-30T18:54:54.102Z"
   },
   {
    "duration": 54,
    "start_time": "2024-09-30T18:55:05.004Z"
   },
   {
    "duration": 4,
    "start_time": "2024-09-30T19:26:24.348Z"
   },
   {
    "duration": 30,
    "start_time": "2024-09-30T19:26:31.850Z"
   },
   {
    "duration": 805,
    "start_time": "2024-09-30T19:28:08.008Z"
   },
   {
    "duration": 24,
    "start_time": "2024-09-30T19:28:08.815Z"
   },
   {
    "duration": 11,
    "start_time": "2024-09-30T19:28:08.841Z"
   },
   {
    "duration": 3,
    "start_time": "2024-09-30T19:28:08.853Z"
   },
   {
    "duration": 12,
    "start_time": "2024-09-30T19:28:08.858Z"
   },
   {
    "duration": 6,
    "start_time": "2024-09-30T19:28:08.871Z"
   },
   {
    "duration": 11,
    "start_time": "2024-09-30T19:28:08.879Z"
   },
   {
    "duration": 35,
    "start_time": "2024-09-30T19:28:08.892Z"
   },
   {
    "duration": 9,
    "start_time": "2024-09-30T19:28:08.928Z"
   },
   {
    "duration": 5,
    "start_time": "2024-09-30T19:28:08.938Z"
   },
   {
    "duration": 3,
    "start_time": "2024-09-30T19:28:08.945Z"
   },
   {
    "duration": 15,
    "start_time": "2024-09-30T19:28:08.950Z"
   },
   {
    "duration": 70,
    "start_time": "2024-09-30T19:28:08.966Z"
   },
   {
    "duration": 6,
    "start_time": "2024-09-30T19:28:09.038Z"
   },
   {
    "duration": 5,
    "start_time": "2024-09-30T19:28:09.045Z"
   },
   {
    "duration": 10,
    "start_time": "2024-09-30T19:28:09.052Z"
   },
   {
    "duration": 4,
    "start_time": "2024-09-30T19:28:09.063Z"
   },
   {
    "duration": 4,
    "start_time": "2024-09-30T19:28:09.068Z"
   },
   {
    "duration": 112,
    "start_time": "2024-09-30T19:28:43.521Z"
   },
   {
    "duration": 110,
    "start_time": "2024-09-30T19:31:48.076Z"
   },
   {
    "duration": 41,
    "start_time": "2024-09-30T19:32:26.838Z"
   },
   {
    "duration": 6,
    "start_time": "2024-09-30T19:32:55.562Z"
   },
   {
    "duration": 4,
    "start_time": "2024-09-30T19:33:34.048Z"
   },
   {
    "duration": 5,
    "start_time": "2024-09-30T19:33:43.203Z"
   },
   {
    "duration": 261,
    "start_time": "2024-09-30T19:35:19.364Z"
   },
   {
    "duration": 529,
    "start_time": "2024-09-30T19:37:31.662Z"
   },
   {
    "duration": 15,
    "start_time": "2024-09-30T19:39:02.209Z"
   },
   {
    "duration": 15,
    "start_time": "2024-09-30T19:39:27.127Z"
   },
   {
    "duration": 7,
    "start_time": "2024-09-30T19:39:46.082Z"
   },
   {
    "duration": 4,
    "start_time": "2024-09-30T19:41:23.287Z"
   },
   {
    "duration": 3,
    "start_time": "2024-09-30T19:41:39.438Z"
   },
   {
    "duration": 3,
    "start_time": "2024-09-30T19:41:58.343Z"
   },
   {
    "duration": 19,
    "start_time": "2024-09-30T19:42:07.001Z"
   },
   {
    "duration": 76,
    "start_time": "2024-09-30T19:43:14.042Z"
   },
   {
    "duration": 3,
    "start_time": "2024-09-30T19:45:43.331Z"
   },
   {
    "duration": 5,
    "start_time": "2024-09-30T19:45:51.531Z"
   },
   {
    "duration": 132,
    "start_time": "2024-09-30T19:48:02.240Z"
   },
   {
    "duration": 5,
    "start_time": "2024-09-30T20:01:06.593Z"
   },
   {
    "duration": 5,
    "start_time": "2024-09-30T20:05:05.302Z"
   },
   {
    "duration": 10,
    "start_time": "2024-09-30T20:05:38.691Z"
   },
   {
    "duration": 137,
    "start_time": "2024-09-30T20:12:41.772Z"
   },
   {
    "duration": 22,
    "start_time": "2024-09-30T20:15:53.509Z"
   },
   {
    "duration": 16,
    "start_time": "2024-09-30T20:16:18.533Z"
   },
   {
    "duration": 16,
    "start_time": "2024-09-30T20:17:35.379Z"
   },
   {
    "duration": 15,
    "start_time": "2024-09-30T20:18:56.786Z"
   },
   {
    "duration": 15,
    "start_time": "2024-09-30T20:21:31.344Z"
   },
   {
    "duration": 5,
    "start_time": "2024-09-30T21:06:30.706Z"
   },
   {
    "duration": 4,
    "start_time": "2024-09-30T21:07:14.567Z"
   },
   {
    "duration": 4,
    "start_time": "2024-09-30T21:07:49.063Z"
   },
   {
    "duration": 3,
    "start_time": "2024-09-30T21:12:02.175Z"
   },
   {
    "duration": 276,
    "start_time": "2024-09-30T21:14:06.182Z"
   },
   {
    "duration": 13,
    "start_time": "2024-09-30T21:15:24.373Z"
   },
   {
    "duration": 15,
    "start_time": "2024-09-30T21:15:33.961Z"
   },
   {
    "duration": 3,
    "start_time": "2024-09-30T21:15:45.053Z"
   },
   {
    "duration": 4,
    "start_time": "2024-09-30T21:18:26.327Z"
   },
   {
    "duration": 43,
    "start_time": "2024-09-30T21:19:17.140Z"
   },
   {
    "duration": 40,
    "start_time": "2024-09-30T21:20:04.282Z"
   },
   {
    "duration": 41,
    "start_time": "2024-09-30T21:20:17.062Z"
   },
   {
    "duration": 33,
    "start_time": "2024-09-30T21:21:00.593Z"
   },
   {
    "duration": 67,
    "start_time": "2024-09-30T21:21:14.805Z"
   },
   {
    "duration": 299,
    "start_time": "2024-09-30T21:22:14.894Z"
   },
   {
    "duration": 3,
    "start_time": "2024-09-30T21:22:38.646Z"
   },
   {
    "duration": 5,
    "start_time": "2024-09-30T21:23:37.316Z"
   },
   {
    "duration": 5,
    "start_time": "2024-09-30T21:27:43.197Z"
   },
   {
    "duration": 16,
    "start_time": "2024-09-30T21:27:47.088Z"
   },
   {
    "duration": 5,
    "start_time": "2024-09-30T21:27:55.763Z"
   },
   {
    "duration": 4,
    "start_time": "2024-09-30T21:28:14.995Z"
   },
   {
    "duration": 359,
    "start_time": "2024-09-30T22:11:42.340Z"
   },
   {
    "duration": 542,
    "start_time": "2024-09-30T22:12:46.264Z"
   },
   {
    "duration": 282,
    "start_time": "2024-09-30T22:12:50.893Z"
   },
   {
    "duration": 147,
    "start_time": "2024-09-30T22:13:05.584Z"
   },
   {
    "duration": 146,
    "start_time": "2024-09-30T22:13:34.266Z"
   },
   {
    "duration": 161,
    "start_time": "2024-09-30T22:13:37.740Z"
   },
   {
    "duration": 150,
    "start_time": "2024-09-30T22:15:29.751Z"
   },
   {
    "duration": 145,
    "start_time": "2024-09-30T22:16:09.177Z"
   },
   {
    "duration": 235,
    "start_time": "2024-09-30T22:18:50.576Z"
   },
   {
    "duration": 2539,
    "start_time": "2024-10-01T13:04:55.755Z"
   },
   {
    "duration": 35,
    "start_time": "2024-10-01T13:04:58.296Z"
   },
   {
    "duration": 12,
    "start_time": "2024-10-01T13:04:58.333Z"
   },
   {
    "duration": 2,
    "start_time": "2024-10-01T13:04:58.348Z"
   },
   {
    "duration": 25,
    "start_time": "2024-10-01T13:04:58.351Z"
   },
   {
    "duration": 7,
    "start_time": "2024-10-01T13:04:58.378Z"
   },
   {
    "duration": 11,
    "start_time": "2024-10-01T13:04:58.387Z"
   },
   {
    "duration": 7,
    "start_time": "2024-10-01T13:04:58.399Z"
   },
   {
    "duration": 8,
    "start_time": "2024-10-01T13:04:58.407Z"
   },
   {
    "duration": 4,
    "start_time": "2024-10-01T13:04:58.418Z"
   },
   {
    "duration": 3,
    "start_time": "2024-10-01T13:04:58.424Z"
   },
   {
    "duration": 50,
    "start_time": "2024-10-01T13:04:58.429Z"
   },
   {
    "duration": 39,
    "start_time": "2024-10-01T13:04:58.481Z"
   },
   {
    "duration": 6,
    "start_time": "2024-10-01T13:04:58.522Z"
   },
   {
    "duration": 6,
    "start_time": "2024-10-01T13:04:58.531Z"
   },
   {
    "duration": 35,
    "start_time": "2024-10-01T13:04:58.538Z"
   },
   {
    "duration": 4,
    "start_time": "2024-10-01T13:04:58.574Z"
   },
   {
    "duration": 163,
    "start_time": "2024-10-01T13:04:58.579Z"
   },
   {
    "duration": 27,
    "start_time": "2024-10-01T13:04:58.744Z"
   },
   {
    "duration": 205,
    "start_time": "2024-10-01T13:04:58.775Z"
   },
   {
    "duration": 431,
    "start_time": "2024-10-01T13:54:47.017Z"
   },
   {
    "duration": 21,
    "start_time": "2024-10-01T13:54:58.960Z"
   },
   {
    "duration": 7,
    "start_time": "2024-10-01T13:55:02.113Z"
   },
   {
    "duration": 5,
    "start_time": "2024-10-01T14:35:19.688Z"
   },
   {
    "duration": 8,
    "start_time": "2024-10-01T14:35:29.025Z"
   },
   {
    "duration": 17,
    "start_time": "2024-10-01T14:35:36.259Z"
   },
   {
    "duration": 421,
    "start_time": "2024-10-01T14:49:07.026Z"
   },
   {
    "duration": 7,
    "start_time": "2024-10-01T14:49:46.632Z"
   },
   {
    "duration": 19,
    "start_time": "2024-10-01T14:51:35.544Z"
   },
   {
    "duration": 17,
    "start_time": "2024-10-01T14:52:04.241Z"
   },
   {
    "duration": 12,
    "start_time": "2024-10-01T14:53:11.401Z"
   },
   {
    "duration": 131,
    "start_time": "2024-10-01T14:54:04.545Z"
   },
   {
    "duration": 260,
    "start_time": "2024-10-01T14:56:13.760Z"
   },
   {
    "duration": 159,
    "start_time": "2024-10-01T15:14:17.868Z"
   },
   {
    "duration": 41,
    "start_time": "2024-10-01T15:14:23.787Z"
   },
   {
    "duration": 4,
    "start_time": "2024-10-01T15:14:38.684Z"
   },
   {
    "duration": 5,
    "start_time": "2024-10-01T15:14:45.769Z"
   },
   {
    "duration": 5,
    "start_time": "2024-10-01T15:15:19.108Z"
   },
   {
    "duration": 7,
    "start_time": "2024-10-01T15:15:19.767Z"
   },
   {
    "duration": 5,
    "start_time": "2024-10-01T15:18:52.922Z"
   },
   {
    "duration": 6,
    "start_time": "2024-10-01T15:18:53.522Z"
   },
   {
    "duration": 7,
    "start_time": "2024-10-01T15:19:34.285Z"
   },
   {
    "duration": 8,
    "start_time": "2024-10-01T15:19:35.068Z"
   },
   {
    "duration": 13,
    "start_time": "2024-10-01T15:22:55.431Z"
   },
   {
    "duration": 8,
    "start_time": "2024-10-01T15:23:23.209Z"
   },
   {
    "duration": 13,
    "start_time": "2024-10-01T15:23:24.221Z"
   },
   {
    "duration": 7,
    "start_time": "2024-10-01T15:24:45.835Z"
   },
   {
    "duration": 14,
    "start_time": "2024-10-01T15:25:07.111Z"
   },
   {
    "duration": 10,
    "start_time": "2024-10-01T15:25:11.153Z"
   },
   {
    "duration": 10,
    "start_time": "2024-10-01T15:26:24.373Z"
   },
   {
    "duration": 206,
    "start_time": "2024-10-01T15:29:13.067Z"
   },
   {
    "duration": 15,
    "start_time": "2024-10-01T15:29:24.497Z"
   },
   {
    "duration": 21,
    "start_time": "2024-10-01T15:33:17.775Z"
   },
   {
    "duration": 6,
    "start_time": "2024-10-01T15:33:27.506Z"
   },
   {
    "duration": 5,
    "start_time": "2024-10-01T15:34:07.164Z"
   },
   {
    "duration": 9,
    "start_time": "2024-10-01T15:34:16.918Z"
   },
   {
    "duration": 4,
    "start_time": "2024-10-01T15:34:25.548Z"
   },
   {
    "duration": 4,
    "start_time": "2024-10-01T15:34:49.452Z"
   },
   {
    "duration": 3,
    "start_time": "2024-10-01T15:35:11.648Z"
   },
   {
    "duration": 20,
    "start_time": "2024-10-01T15:35:16.928Z"
   },
   {
    "duration": 3,
    "start_time": "2024-10-01T15:35:49.732Z"
   },
   {
    "duration": 4,
    "start_time": "2024-10-01T15:35:55.198Z"
   },
   {
    "duration": 10,
    "start_time": "2024-10-01T16:03:33.253Z"
   },
   {
    "duration": 19,
    "start_time": "2024-10-01T16:06:59.433Z"
   },
   {
    "duration": 9,
    "start_time": "2024-10-01T16:08:28.344Z"
   },
   {
    "duration": 13,
    "start_time": "2024-10-01T16:09:12.808Z"
   },
   {
    "duration": 5,
    "start_time": "2024-10-01T16:09:20.105Z"
   },
   {
    "duration": 9,
    "start_time": "2024-10-01T16:13:24.702Z"
   },
   {
    "duration": 15,
    "start_time": "2024-10-01T16:18:03.070Z"
   },
   {
    "duration": 4,
    "start_time": "2024-10-01T16:18:43.510Z"
   },
   {
    "duration": 18,
    "start_time": "2024-10-01T16:20:34.752Z"
   },
   {
    "duration": 21,
    "start_time": "2024-10-01T16:22:46.516Z"
   },
   {
    "duration": 11,
    "start_time": "2024-10-01T16:24:28.634Z"
   },
   {
    "duration": 15,
    "start_time": "2024-10-01T16:24:44.287Z"
   },
   {
    "duration": 6,
    "start_time": "2024-10-01T16:25:28.914Z"
   },
   {
    "duration": 7,
    "start_time": "2024-10-01T16:25:29.576Z"
   },
   {
    "duration": 6,
    "start_time": "2024-10-01T16:27:14.760Z"
   },
   {
    "duration": 7,
    "start_time": "2024-10-01T16:28:18.291Z"
   },
   {
    "duration": 15,
    "start_time": "2024-10-01T16:28:19.056Z"
   },
   {
    "duration": 14,
    "start_time": "2024-10-01T16:29:12.235Z"
   },
   {
    "duration": 16,
    "start_time": "2024-10-01T16:29:37.351Z"
   },
   {
    "duration": 18,
    "start_time": "2024-10-01T16:29:45.277Z"
   },
   {
    "duration": 17,
    "start_time": "2024-10-01T16:29:57.394Z"
   },
   {
    "duration": 14,
    "start_time": "2024-10-01T16:30:50.539Z"
   },
   {
    "duration": 6,
    "start_time": "2024-10-01T16:30:55.823Z"
   },
   {
    "duration": 6,
    "start_time": "2024-10-01T16:30:56.551Z"
   },
   {
    "duration": 19,
    "start_time": "2024-10-01T16:31:40.515Z"
   },
   {
    "duration": 5,
    "start_time": "2024-10-01T16:31:56.406Z"
   },
   {
    "duration": 7,
    "start_time": "2024-10-01T16:32:13.165Z"
   },
   {
    "duration": 21,
    "start_time": "2024-10-01T16:32:13.893Z"
   },
   {
    "duration": 15,
    "start_time": "2024-10-01T16:33:52.773Z"
   },
   {
    "duration": 17,
    "start_time": "2024-10-01T16:36:11.382Z"
   },
   {
    "duration": 23,
    "start_time": "2024-10-01T16:36:20.560Z"
   },
   {
    "duration": 24,
    "start_time": "2024-10-01T16:36:45.581Z"
   },
   {
    "duration": 23,
    "start_time": "2024-10-01T16:37:21.755Z"
   },
   {
    "duration": 21,
    "start_time": "2024-10-01T16:37:30.087Z"
   },
   {
    "duration": 18,
    "start_time": "2024-10-01T16:43:48.179Z"
   },
   {
    "duration": 78,
    "start_time": "2024-10-01T16:44:23.189Z"
   },
   {
    "duration": 19,
    "start_time": "2024-10-01T16:44:37.365Z"
   },
   {
    "duration": 20,
    "start_time": "2024-10-02T01:21:44.951Z"
   },
   {
    "duration": 25,
    "start_time": "2024-10-02T01:21:57.363Z"
   },
   {
    "duration": 1048,
    "start_time": "2024-10-02T01:27:14.182Z"
   },
   {
    "duration": 268,
    "start_time": "2024-10-02T01:33:07.515Z"
   },
   {
    "duration": 1029,
    "start_time": "2024-10-02T01:33:25.231Z"
   },
   {
    "duration": 1205,
    "start_time": "2024-10-02T01:36:36.521Z"
   },
   {
    "duration": 267,
    "start_time": "2024-10-02T01:37:01.518Z"
   },
   {
    "duration": 1055,
    "start_time": "2024-10-02T01:39:26.096Z"
   },
   {
    "duration": 10,
    "start_time": "2024-10-02T01:40:47.505Z"
   },
   {
    "duration": 4,
    "start_time": "2024-10-02T01:41:40.587Z"
   },
   {
    "duration": 4056,
    "start_time": "2024-10-02T01:41:54.940Z"
   },
   {
    "duration": 4076,
    "start_time": "2024-10-02T01:42:11.846Z"
   },
   {
    "duration": 236,
    "start_time": "2024-10-02T01:50:00.607Z"
   },
   {
    "duration": 33,
    "start_time": "2024-10-02T01:50:37.340Z"
   },
   {
    "duration": 21,
    "start_time": "2024-10-02T01:54:11.849Z"
   },
   {
    "duration": 25,
    "start_time": "2024-10-02T01:54:19.573Z"
   },
   {
    "duration": 26,
    "start_time": "2024-10-02T01:54:33.706Z"
   },
   {
    "duration": 2485,
    "start_time": "2024-10-02T13:32:41.803Z"
   },
   {
    "duration": 44,
    "start_time": "2024-10-02T13:32:44.290Z"
   },
   {
    "duration": 11,
    "start_time": "2024-10-02T13:32:44.337Z"
   },
   {
    "duration": 2,
    "start_time": "2024-10-02T13:32:44.351Z"
   },
   {
    "duration": 12,
    "start_time": "2024-10-02T13:32:44.356Z"
   },
   {
    "duration": 7,
    "start_time": "2024-10-02T13:32:44.369Z"
   },
   {
    "duration": 12,
    "start_time": "2024-10-02T13:32:44.378Z"
   },
   {
    "duration": 6,
    "start_time": "2024-10-02T13:32:44.391Z"
   },
   {
    "duration": 44,
    "start_time": "2024-10-02T13:32:44.399Z"
   },
   {
    "duration": 6,
    "start_time": "2024-10-02T13:32:44.445Z"
   },
   {
    "duration": 3,
    "start_time": "2024-10-02T13:32:44.453Z"
   },
   {
    "duration": 15,
    "start_time": "2024-10-02T13:32:44.458Z"
   },
   {
    "duration": 68,
    "start_time": "2024-10-02T13:32:44.475Z"
   },
   {
    "duration": 7,
    "start_time": "2024-10-02T13:32:44.546Z"
   },
   {
    "duration": 7,
    "start_time": "2024-10-02T13:32:44.556Z"
   },
   {
    "duration": 11,
    "start_time": "2024-10-02T13:32:44.564Z"
   },
   {
    "duration": 3,
    "start_time": "2024-10-02T13:32:44.577Z"
   },
   {
    "duration": 176,
    "start_time": "2024-10-02T13:32:44.582Z"
   },
   {
    "duration": 18,
    "start_time": "2024-10-02T13:32:44.761Z"
   },
   {
    "duration": 217,
    "start_time": "2024-10-02T13:32:44.780Z"
   },
   {
    "duration": 18,
    "start_time": "2024-10-02T13:32:44.999Z"
   },
   {
    "duration": 277,
    "start_time": "2024-10-02T13:36:44.894Z"
   },
   {
    "duration": 228,
    "start_time": "2024-10-02T13:37:11.810Z"
   },
   {
    "duration": 13,
    "start_time": "2024-10-02T13:38:01.990Z"
   },
   {
    "duration": 568,
    "start_time": "2024-10-02T13:41:28.529Z"
   },
   {
    "duration": 5,
    "start_time": "2024-10-02T13:41:55.734Z"
   },
   {
    "duration": 20,
    "start_time": "2024-10-02T13:47:45.408Z"
   },
   {
    "duration": 22,
    "start_time": "2024-10-02T13:48:26.386Z"
   },
   {
    "duration": 15,
    "start_time": "2024-10-02T13:49:49.010Z"
   },
   {
    "duration": 409,
    "start_time": "2024-10-02T13:50:12.281Z"
   },
   {
    "duration": 329,
    "start_time": "2024-10-02T13:50:35.054Z"
   },
   {
    "duration": 8,
    "start_time": "2024-10-02T14:29:03.618Z"
   },
   {
    "duration": 29,
    "start_time": "2024-10-02T14:29:06.026Z"
   },
   {
    "duration": 4,
    "start_time": "2024-10-02T14:30:22.564Z"
   },
   {
    "duration": 16,
    "start_time": "2024-10-02T14:30:36.623Z"
   },
   {
    "duration": 4,
    "start_time": "2024-10-02T14:31:52.880Z"
   },
   {
    "duration": 913,
    "start_time": "2024-10-02T14:32:33.401Z"
   },
   {
    "duration": 3,
    "start_time": "2024-10-02T14:34:38.171Z"
   },
   {
    "duration": 13,
    "start_time": "2024-10-02T14:34:55.631Z"
   },
   {
    "duration": 361,
    "start_time": "2024-10-02T14:35:17.222Z"
   },
   {
    "duration": 361,
    "start_time": "2024-10-02T14:42:25.645Z"
   },
   {
    "duration": 371,
    "start_time": "2024-10-02T14:42:32.688Z"
   },
   {
    "duration": 318,
    "start_time": "2024-10-02T14:43:03.698Z"
   },
   {
    "duration": 14,
    "start_time": "2024-10-02T14:43:23.824Z"
   },
   {
    "duration": 359,
    "start_time": "2024-10-02T14:43:41.459Z"
   },
   {
    "duration": 9,
    "start_time": "2024-10-02T14:44:12.342Z"
   },
   {
    "duration": 16,
    "start_time": "2024-10-02T14:44:24.065Z"
   },
   {
    "duration": 16,
    "start_time": "2024-10-02T14:50:51.935Z"
   },
   {
    "duration": 15,
    "start_time": "2024-10-02T14:51:12.409Z"
   },
   {
    "duration": 258,
    "start_time": "2024-10-02T14:51:18.146Z"
   },
   {
    "duration": 14,
    "start_time": "2024-10-02T14:55:27.696Z"
   },
   {
    "duration": 354,
    "start_time": "2024-10-02T14:55:28.865Z"
   },
   {
    "duration": 16,
    "start_time": "2024-10-02T15:19:48.653Z"
   },
   {
    "duration": 4,
    "start_time": "2024-10-02T15:22:20.936Z"
   },
   {
    "duration": 193,
    "start_time": "2024-10-02T15:22:38.381Z"
   },
   {
    "duration": 185,
    "start_time": "2024-10-02T15:22:44.230Z"
   },
   {
    "duration": 185,
    "start_time": "2024-10-02T15:24:38.289Z"
   },
   {
    "duration": 187,
    "start_time": "2024-10-02T15:29:04.421Z"
   },
   {
    "duration": 3,
    "start_time": "2024-10-02T15:29:40.558Z"
   },
   {
    "duration": 468,
    "start_time": "2024-10-02T15:34:46.061Z"
   },
   {
    "duration": 293,
    "start_time": "2024-10-02T15:35:53.879Z"
   },
   {
    "duration": 188,
    "start_time": "2024-10-02T15:36:14.316Z"
   },
   {
    "duration": 22,
    "start_time": "2024-10-02T15:36:52.424Z"
   },
   {
    "duration": 306,
    "start_time": "2024-10-02T15:42:10.780Z"
   },
   {
    "duration": 292,
    "start_time": "2024-10-02T15:43:54.766Z"
   },
   {
    "duration": 293,
    "start_time": "2024-10-02T15:51:08.433Z"
   },
   {
    "duration": 292,
    "start_time": "2024-10-02T15:51:48.609Z"
   },
   {
    "duration": 296,
    "start_time": "2024-10-02T15:53:14.821Z"
   },
   {
    "duration": 301,
    "start_time": "2024-10-02T15:53:48.198Z"
   },
   {
    "duration": 313,
    "start_time": "2024-10-02T15:53:59.232Z"
   },
   {
    "duration": 299,
    "start_time": "2024-10-02T15:54:47.080Z"
   },
   {
    "duration": 298,
    "start_time": "2024-10-02T15:55:17.368Z"
   },
   {
    "duration": 303,
    "start_time": "2024-10-02T15:56:30.805Z"
   },
   {
    "duration": 312,
    "start_time": "2024-10-02T15:57:00.315Z"
   },
   {
    "duration": 521,
    "start_time": "2024-10-02T15:57:15.773Z"
   },
   {
    "duration": 3,
    "start_time": "2024-10-02T15:58:41.291Z"
   },
   {
    "duration": 346,
    "start_time": "2024-10-02T15:58:42.131Z"
   },
   {
    "duration": 4,
    "start_time": "2024-10-02T15:59:28.896Z"
   },
   {
    "duration": 297,
    "start_time": "2024-10-02T15:59:29.433Z"
   },
   {
    "duration": 3,
    "start_time": "2024-10-02T16:00:33.701Z"
   },
   {
    "duration": 307,
    "start_time": "2024-10-02T16:00:34.205Z"
   },
   {
    "duration": 298,
    "start_time": "2024-10-02T16:03:41.421Z"
   },
   {
    "duration": 305,
    "start_time": "2024-10-02T16:04:34.433Z"
   },
   {
    "duration": 254,
    "start_time": "2024-10-02T16:05:04.035Z"
   },
   {
    "duration": 300,
    "start_time": "2024-10-02T16:05:09.106Z"
   },
   {
    "duration": 85,
    "start_time": "2024-10-02T16:06:52.304Z"
   },
   {
    "duration": 307,
    "start_time": "2024-10-02T16:06:55.128Z"
   },
   {
    "duration": 550,
    "start_time": "2024-10-02T16:45:05.621Z"
   },
   {
    "duration": 1566,
    "start_time": "2024-10-02T16:46:01.957Z"
   },
   {
    "duration": 17,
    "start_time": "2024-10-02T17:30:58.110Z"
   },
   {
    "duration": 18,
    "start_time": "2024-10-02T17:31:16.156Z"
   },
   {
    "duration": 7,
    "start_time": "2024-10-02T17:32:41.487Z"
   },
   {
    "duration": 16,
    "start_time": "2024-10-02T17:32:57.493Z"
   },
   {
    "duration": 16,
    "start_time": "2024-10-02T17:34:50.338Z"
   },
   {
    "duration": 7,
    "start_time": "2024-10-02T17:36:00.712Z"
   },
   {
    "duration": 19,
    "start_time": "2024-10-02T17:36:05.839Z"
   },
   {
    "duration": 17,
    "start_time": "2024-10-02T17:36:12.003Z"
   },
   {
    "duration": 19,
    "start_time": "2024-10-02T17:36:25.658Z"
   },
   {
    "duration": 8,
    "start_time": "2024-10-02T17:37:08.926Z"
   },
   {
    "duration": 17,
    "start_time": "2024-10-02T17:37:15.414Z"
   },
   {
    "duration": 7,
    "start_time": "2024-10-02T17:37:32.773Z"
   },
   {
    "duration": 333,
    "start_time": "2024-10-02T17:38:54.671Z"
   },
   {
    "duration": 7,
    "start_time": "2024-10-02T17:40:25.320Z"
   },
   {
    "duration": 230,
    "start_time": "2024-10-02T17:40:30.541Z"
   },
   {
    "duration": 15,
    "start_time": "2024-10-02T20:59:40.034Z"
   },
   {
    "duration": 160,
    "start_time": "2024-10-02T20:59:44.645Z"
   },
   {
    "duration": 169,
    "start_time": "2024-10-02T21:10:13.553Z"
   },
   {
    "duration": 517,
    "start_time": "2024-10-02T21:31:35.694Z"
   },
   {
    "duration": 300,
    "start_time": "2024-10-02T21:31:51.934Z"
   },
   {
    "duration": 215,
    "start_time": "2024-10-02T21:33:52.195Z"
   },
   {
    "duration": 209,
    "start_time": "2024-10-02T21:36:19.892Z"
   },
   {
    "duration": 3,
    "start_time": "2024-10-02T21:36:23.866Z"
   },
   {
    "duration": 12,
    "start_time": "2024-10-02T21:36:30.414Z"
   },
   {
    "duration": 8,
    "start_time": "2024-10-02T21:36:38.030Z"
   },
   {
    "duration": 13,
    "start_time": "2024-10-02T21:37:54.033Z"
   },
   {
    "duration": 4,
    "start_time": "2024-10-02T21:40:25.946Z"
   },
   {
    "duration": 18,
    "start_time": "2024-10-02T21:40:35.075Z"
   },
   {
    "duration": 7,
    "start_time": "2024-10-02T21:40:46.374Z"
   },
   {
    "duration": 232,
    "start_time": "2024-10-02T21:41:23.108Z"
   },
   {
    "duration": 62,
    "start_time": "2024-10-02T21:43:32.890Z"
   },
   {
    "duration": 44,
    "start_time": "2024-10-02T21:43:39.885Z"
   },
   {
    "duration": 4,
    "start_time": "2024-10-02T21:43:46.227Z"
   },
   {
    "duration": 197,
    "start_time": "2024-10-02T21:44:15.372Z"
   },
   {
    "duration": 321,
    "start_time": "2024-10-02T21:44:30.137Z"
   },
   {
    "duration": 95,
    "start_time": "2024-10-02T21:56:38.461Z"
   },
   {
    "duration": 170,
    "start_time": "2024-10-02T21:56:51.845Z"
   },
   {
    "duration": 217,
    "start_time": "2024-10-02T21:57:20.315Z"
   },
   {
    "duration": 175,
    "start_time": "2024-10-02T21:57:29.167Z"
   },
   {
    "duration": 401,
    "start_time": "2024-10-02T21:57:48.592Z"
   },
   {
    "duration": 138,
    "start_time": "2024-10-02T22:07:31.447Z"
   },
   {
    "duration": 87,
    "start_time": "2024-10-02T22:07:43.283Z"
   },
   {
    "duration": 96,
    "start_time": "2024-10-02T22:09:39.760Z"
   },
   {
    "duration": 86,
    "start_time": "2024-10-02T22:09:47.397Z"
   },
   {
    "duration": 5,
    "start_time": "2024-10-02T22:16:54.082Z"
   },
   {
    "duration": 4,
    "start_time": "2024-10-02T22:18:59.104Z"
   },
   {
    "duration": 4,
    "start_time": "2024-10-02T22:20:49.167Z"
   },
   {
    "duration": 4,
    "start_time": "2024-10-02T22:24:00.271Z"
   },
   {
    "duration": 101,
    "start_time": "2024-10-02T22:25:19.578Z"
   },
   {
    "duration": 91,
    "start_time": "2024-10-02T22:25:28.781Z"
   },
   {
    "duration": 88,
    "start_time": "2024-10-02T22:25:34.505Z"
   },
   {
    "duration": 229,
    "start_time": "2024-10-02T22:28:22.382Z"
   },
   {
    "duration": 247,
    "start_time": "2024-10-02T22:28:38.896Z"
   },
   {
    "duration": 227,
    "start_time": "2024-10-02T22:30:21.702Z"
   },
   {
    "duration": 390,
    "start_time": "2024-10-02T22:31:05.773Z"
   },
   {
    "duration": 234,
    "start_time": "2024-10-02T22:31:24.314Z"
   },
   {
    "duration": 2505,
    "start_time": "2024-10-03T16:48:19.932Z"
   },
   {
    "duration": 41,
    "start_time": "2024-10-03T16:48:22.439Z"
   },
   {
    "duration": 10,
    "start_time": "2024-10-03T16:48:22.482Z"
   },
   {
    "duration": 3,
    "start_time": "2024-10-03T16:48:22.494Z"
   },
   {
    "duration": 14,
    "start_time": "2024-10-03T16:48:22.500Z"
   },
   {
    "duration": 7,
    "start_time": "2024-10-03T16:48:22.515Z"
   },
   {
    "duration": 12,
    "start_time": "2024-10-03T16:48:22.523Z"
   },
   {
    "duration": 5,
    "start_time": "2024-10-03T16:48:22.536Z"
   },
   {
    "duration": 8,
    "start_time": "2024-10-03T16:48:22.543Z"
   },
   {
    "duration": 5,
    "start_time": "2024-10-03T16:48:22.553Z"
   },
   {
    "duration": 4,
    "start_time": "2024-10-03T16:48:22.559Z"
   },
   {
    "duration": 53,
    "start_time": "2024-10-03T16:48:22.564Z"
   },
   {
    "duration": 36,
    "start_time": "2024-10-03T16:48:22.618Z"
   },
   {
    "duration": 5,
    "start_time": "2024-10-03T16:48:22.658Z"
   },
   {
    "duration": 5,
    "start_time": "2024-10-03T16:48:22.664Z"
   },
   {
    "duration": 9,
    "start_time": "2024-10-03T16:48:22.672Z"
   },
   {
    "duration": 3,
    "start_time": "2024-10-03T16:48:22.683Z"
   },
   {
    "duration": 152,
    "start_time": "2024-10-03T16:48:22.713Z"
   },
   {
    "duration": 23,
    "start_time": "2024-10-03T16:48:22.866Z"
   },
   {
    "duration": 343,
    "start_time": "2024-10-03T16:48:22.891Z"
   },
   {
    "duration": 23,
    "start_time": "2024-10-03T16:48:23.237Z"
   },
   {
    "duration": 3,
    "start_time": "2024-10-03T16:48:23.263Z"
   },
   {
    "duration": 223,
    "start_time": "2024-10-03T16:48:23.269Z"
   },
   {
    "duration": 8,
    "start_time": "2024-10-03T16:48:23.494Z"
   },
   {
    "duration": 74,
    "start_time": "2024-10-03T16:48:23.503Z"
   },
   {
    "duration": 3,
    "start_time": "2024-10-03T16:48:23.579Z"
   },
   {
    "duration": 307,
    "start_time": "2024-10-03T16:48:23.583Z"
   },
   {
    "duration": 6,
    "start_time": "2024-10-03T16:48:23.892Z"
   },
   {
    "duration": 225,
    "start_time": "2024-10-03T16:48:23.900Z"
   },
   {
    "duration": 5,
    "start_time": "2024-10-03T16:48:24.127Z"
   },
   {
    "duration": 99,
    "start_time": "2024-10-03T16:48:24.133Z"
   },
   {
    "duration": 3,
    "start_time": "2024-10-03T16:48:24.234Z"
   },
   {
    "duration": 4,
    "start_time": "2024-10-03T16:48:24.239Z"
   },
   {
    "duration": 103,
    "start_time": "2024-10-03T16:48:24.244Z"
   },
   {
    "duration": 235,
    "start_time": "2024-10-03T16:48:24.349Z"
   },
   {
    "duration": 5,
    "start_time": "2024-10-03T18:36:08.898Z"
   },
   {
    "duration": 12,
    "start_time": "2024-10-03T18:37:03.426Z"
   },
   {
    "duration": 11,
    "start_time": "2024-10-03T18:37:49.535Z"
   },
   {
    "duration": 12,
    "start_time": "2024-10-03T18:39:38.867Z"
   },
   {
    "duration": 18,
    "start_time": "2024-10-03T18:40:59.457Z"
   },
   {
    "duration": 10,
    "start_time": "2024-10-03T18:41:23.504Z"
   },
   {
    "duration": 10,
    "start_time": "2024-10-03T18:41:58.127Z"
   },
   {
    "duration": 11,
    "start_time": "2024-10-03T18:43:45.284Z"
   },
   {
    "duration": 8,
    "start_time": "2024-10-03T18:44:27.432Z"
   },
   {
    "duration": 517,
    "start_time": "2024-10-03T18:46:13.209Z"
   },
   {
    "duration": 31,
    "start_time": "2024-10-03T18:46:36.249Z"
   },
   {
    "duration": 3,
    "start_time": "2024-10-03T18:46:57.968Z"
   },
   {
    "duration": 380,
    "start_time": "2024-10-03T18:47:05.676Z"
   },
   {
    "duration": 11,
    "start_time": "2024-10-03T18:47:25.369Z"
   },
   {
    "duration": 361,
    "start_time": "2024-10-03T18:48:25.884Z"
   },
   {
    "duration": 10,
    "start_time": "2024-10-03T18:48:56.320Z"
   },
   {
    "duration": 13,
    "start_time": "2024-10-03T18:49:26.088Z"
   },
   {
    "duration": 9,
    "start_time": "2024-10-03T18:49:26.976Z"
   },
   {
    "duration": 3,
    "start_time": "2024-10-03T18:50:36.632Z"
   },
   {
    "duration": 9,
    "start_time": "2024-10-03T18:50:44.208Z"
   },
   {
    "duration": 5,
    "start_time": "2024-10-03T18:51:27.017Z"
   },
   {
    "duration": 10,
    "start_time": "2024-10-03T18:52:03.383Z"
   },
   {
    "duration": 11,
    "start_time": "2024-10-03T18:52:07.701Z"
   },
   {
    "duration": 12,
    "start_time": "2024-10-03T18:54:01.061Z"
   },
   {
    "duration": 4,
    "start_time": "2024-10-03T18:54:07.964Z"
   },
   {
    "duration": 10,
    "start_time": "2024-10-03T18:54:18.786Z"
   },
   {
    "duration": 11,
    "start_time": "2024-10-03T18:54:37.249Z"
   },
   {
    "duration": 12,
    "start_time": "2024-10-03T18:55:00.146Z"
   },
   {
    "duration": 41,
    "start_time": "2024-10-03T18:56:23.114Z"
   },
   {
    "duration": 111,
    "start_time": "2024-10-03T18:56:41.058Z"
   },
   {
    "duration": 107,
    "start_time": "2024-10-03T18:57:00.914Z"
   },
   {
    "duration": 101,
    "start_time": "2024-10-03T21:31:54.896Z"
   },
   {
    "duration": 109,
    "start_time": "2024-10-03T21:32:58.786Z"
   },
   {
    "duration": 105,
    "start_time": "2024-10-03T21:45:51.987Z"
   },
   {
    "duration": 118,
    "start_time": "2024-10-03T21:47:03.689Z"
   },
   {
    "duration": 4,
    "start_time": "2024-10-03T21:54:32.550Z"
   },
   {
    "duration": 14,
    "start_time": "2024-10-03T21:54:48.025Z"
   },
   {
    "duration": 17,
    "start_time": "2024-10-03T21:54:58.272Z"
   },
   {
    "duration": 12,
    "start_time": "2024-10-03T21:55:20.057Z"
   },
   {
    "duration": 12,
    "start_time": "2024-10-03T21:55:38.602Z"
   },
   {
    "duration": 13,
    "start_time": "2024-10-03T21:55:57.779Z"
   },
   {
    "duration": 34,
    "start_time": "2024-10-03T21:56:03.343Z"
   },
   {
    "duration": 9,
    "start_time": "2024-10-03T21:57:13.148Z"
   },
   {
    "duration": 8,
    "start_time": "2024-10-03T21:59:02.018Z"
   },
   {
    "duration": 77,
    "start_time": "2024-10-03T21:59:25.777Z"
   },
   {
    "duration": 9,
    "start_time": "2024-10-03T22:02:20.838Z"
   },
   {
    "duration": 5,
    "start_time": "2024-10-03T22:02:28.390Z"
   },
   {
    "duration": 4,
    "start_time": "2024-10-03T22:02:35.042Z"
   },
   {
    "duration": 4,
    "start_time": "2024-10-03T22:03:04.236Z"
   },
   {
    "duration": 5,
    "start_time": "2024-10-03T22:03:13.783Z"
   },
   {
    "duration": 5,
    "start_time": "2024-10-03T22:03:35.530Z"
   },
   {
    "duration": 7,
    "start_time": "2024-10-03T22:09:27.430Z"
   },
   {
    "duration": 17,
    "start_time": "2024-10-03T22:12:33.917Z"
   },
   {
    "duration": 22,
    "start_time": "2024-10-03T22:15:35.102Z"
   },
   {
    "duration": 5,
    "start_time": "2024-10-03T22:15:52.623Z"
   },
   {
    "duration": 6,
    "start_time": "2024-10-03T22:16:09.462Z"
   },
   {
    "duration": 6,
    "start_time": "2024-10-03T22:24:58.239Z"
   },
   {
    "duration": 4,
    "start_time": "2024-10-03T22:26:37.003Z"
   },
   {
    "duration": 14,
    "start_time": "2024-10-03T22:29:57.135Z"
   },
   {
    "duration": 193,
    "start_time": "2024-10-03T22:30:01.238Z"
   },
   {
    "duration": 198,
    "start_time": "2024-10-03T22:30:21.191Z"
   },
   {
    "duration": 188,
    "start_time": "2024-10-03T22:30:46.671Z"
   },
   {
    "duration": 194,
    "start_time": "2024-10-03T22:31:58.180Z"
   },
   {
    "duration": 430,
    "start_time": "2024-10-03T22:32:12.394Z"
   },
   {
    "duration": 131,
    "start_time": "2024-10-03T22:33:05.490Z"
   },
   {
    "duration": 187,
    "start_time": "2024-10-03T22:33:23.618Z"
   },
   {
    "duration": 187,
    "start_time": "2024-10-03T22:33:32.707Z"
   },
   {
    "duration": 192,
    "start_time": "2024-10-03T22:33:41.705Z"
   },
   {
    "duration": 187,
    "start_time": "2024-10-03T22:33:51.331Z"
   },
   {
    "duration": 121,
    "start_time": "2024-10-03T22:34:40.951Z"
   },
   {
    "duration": 118,
    "start_time": "2024-10-03T22:35:35.552Z"
   },
   {
    "duration": 184,
    "start_time": "2024-10-03T22:35:47.029Z"
   },
   {
    "duration": 192,
    "start_time": "2024-10-03T22:37:25.471Z"
   },
   {
    "duration": 124,
    "start_time": "2024-10-03T22:39:19.936Z"
   },
   {
    "duration": 342,
    "start_time": "2024-10-03T22:39:44.265Z"
   },
   {
    "duration": 12,
    "start_time": "2024-10-03T22:49:17.743Z"
   },
   {
    "duration": 80,
    "start_time": "2024-10-03T22:50:27.769Z"
   },
   {
    "duration": 14,
    "start_time": "2024-10-03T22:50:59.493Z"
   },
   {
    "duration": 14,
    "start_time": "2024-10-03T22:52:12.159Z"
   },
   {
    "duration": 49,
    "start_time": "2024-10-03T22:52:21.127Z"
   },
   {
    "duration": 6,
    "start_time": "2024-10-03T22:52:43.129Z"
   },
   {
    "duration": 197,
    "start_time": "2024-10-03T22:52:43.955Z"
   },
   {
    "duration": 476,
    "start_time": "2024-10-03T23:03:30.915Z"
   },
   {
    "duration": 2588,
    "start_time": "2024-10-04T16:09:06.952Z"
   },
   {
    "duration": 42,
    "start_time": "2024-10-04T16:09:09.544Z"
   },
   {
    "duration": 11,
    "start_time": "2024-10-04T16:09:09.588Z"
   },
   {
    "duration": 3,
    "start_time": "2024-10-04T16:09:09.601Z"
   },
   {
    "duration": 13,
    "start_time": "2024-10-04T16:09:09.608Z"
   },
   {
    "duration": 7,
    "start_time": "2024-10-04T16:09:09.623Z"
   },
   {
    "duration": 21,
    "start_time": "2024-10-04T16:09:09.631Z"
   },
   {
    "duration": 7,
    "start_time": "2024-10-04T16:09:09.654Z"
   },
   {
    "duration": 9,
    "start_time": "2024-10-04T16:09:09.662Z"
   },
   {
    "duration": 5,
    "start_time": "2024-10-04T16:09:09.673Z"
   },
   {
    "duration": 3,
    "start_time": "2024-10-04T16:09:09.680Z"
   },
   {
    "duration": 16,
    "start_time": "2024-10-04T16:09:09.685Z"
   },
   {
    "duration": 80,
    "start_time": "2024-10-04T16:09:09.702Z"
   },
   {
    "duration": 6,
    "start_time": "2024-10-04T16:09:09.786Z"
   },
   {
    "duration": 7,
    "start_time": "2024-10-04T16:09:09.794Z"
   },
   {
    "duration": 40,
    "start_time": "2024-10-04T16:09:09.803Z"
   },
   {
    "duration": 4,
    "start_time": "2024-10-04T16:09:09.844Z"
   },
   {
    "duration": 158,
    "start_time": "2024-10-04T16:09:09.850Z"
   },
   {
    "duration": 33,
    "start_time": "2024-10-04T16:09:10.009Z"
   },
   {
    "duration": 402,
    "start_time": "2024-10-04T16:09:10.044Z"
   },
   {
    "duration": 18,
    "start_time": "2024-10-04T16:09:10.448Z"
   },
   {
    "duration": 4,
    "start_time": "2024-10-04T16:09:10.468Z"
   },
   {
    "duration": 254,
    "start_time": "2024-10-04T16:09:10.473Z"
   },
   {
    "duration": 7,
    "start_time": "2024-10-04T16:09:10.729Z"
   },
   {
    "duration": 22,
    "start_time": "2024-10-04T16:09:10.738Z"
   },
   {
    "duration": 3,
    "start_time": "2024-10-04T16:09:10.762Z"
   },
   {
    "duration": 328,
    "start_time": "2024-10-04T16:09:10.767Z"
   },
   {
    "duration": 7,
    "start_time": "2024-10-04T16:09:11.097Z"
   },
   {
    "duration": 239,
    "start_time": "2024-10-04T16:09:11.106Z"
   },
   {
    "duration": 4,
    "start_time": "2024-10-04T16:09:11.347Z"
   },
   {
    "duration": 103,
    "start_time": "2024-10-04T16:09:11.353Z"
   },
   {
    "duration": 3,
    "start_time": "2024-10-04T16:09:11.459Z"
   },
   {
    "duration": 4,
    "start_time": "2024-10-04T16:09:11.464Z"
   },
   {
    "duration": 105,
    "start_time": "2024-10-04T16:09:11.470Z"
   },
   {
    "duration": 241,
    "start_time": "2024-10-04T16:09:11.577Z"
   },
   {
    "duration": 23,
    "start_time": "2024-10-04T16:09:11.820Z"
   },
   {
    "duration": 116,
    "start_time": "2024-10-04T16:09:11.845Z"
   },
   {
    "duration": 217,
    "start_time": "2024-10-04T16:09:11.963Z"
   },
   {
    "duration": 6,
    "start_time": "2024-10-04T16:09:12.182Z"
   },
   {
    "duration": 5,
    "start_time": "2024-10-04T16:09:12.190Z"
   },
   {
    "duration": 5,
    "start_time": "2024-10-04T16:09:12.200Z"
   },
   {
    "duration": 7,
    "start_time": "2024-10-04T16:09:12.207Z"
   },
   {
    "duration": 207,
    "start_time": "2024-10-04T16:09:12.242Z"
   },
   {
    "duration": 212,
    "start_time": "2024-10-04T16:09:12.452Z"
   },
   {
    "duration": 5,
    "start_time": "2024-10-04T16:32:38.283Z"
   },
   {
    "duration": 1163,
    "start_time": "2024-10-04T16:49:29.149Z"
   },
   {
    "duration": 112,
    "start_time": "2024-10-04T16:50:52.998Z"
   },
   {
    "duration": 5,
    "start_time": "2024-10-04T16:53:09.965Z"
   },
   {
    "duration": 15,
    "start_time": "2024-10-04T16:53:15.601Z"
   },
   {
    "duration": 126,
    "start_time": "2024-10-04T16:53:30.490Z"
   },
   {
    "duration": 137,
    "start_time": "2024-10-04T16:54:00.069Z"
   },
   {
    "duration": 457,
    "start_time": "2024-10-04T17:15:49.273Z"
   },
   {
    "duration": 12,
    "start_time": "2024-10-04T17:16:20.233Z"
   },
   {
    "duration": 17,
    "start_time": "2024-10-04T17:16:30.382Z"
   },
   {
    "duration": 12,
    "start_time": "2024-10-04T17:16:51.725Z"
   },
   {
    "duration": 14,
    "start_time": "2024-10-04T17:17:01.253Z"
   },
   {
    "duration": 17,
    "start_time": "2024-10-04T17:18:02.954Z"
   },
   {
    "duration": 7,
    "start_time": "2024-10-04T17:19:04.362Z"
   },
   {
    "duration": 6,
    "start_time": "2024-10-04T17:22:07.110Z"
   },
   {
    "duration": 8,
    "start_time": "2024-10-04T17:22:20.459Z"
   },
   {
    "duration": 17,
    "start_time": "2024-10-04T17:23:24.071Z"
   },
   {
    "duration": 7,
    "start_time": "2024-10-04T17:23:27.978Z"
   },
   {
    "duration": 7,
    "start_time": "2024-10-04T17:24:06.402Z"
   },
   {
    "duration": 10,
    "start_time": "2024-10-04T17:44:34.675Z"
   },
   {
    "duration": 11,
    "start_time": "2024-10-04T21:38:04.037Z"
   },
   {
    "duration": 10,
    "start_time": "2024-10-04T21:43:39.426Z"
   },
   {
    "duration": 12,
    "start_time": "2024-10-04T21:43:51.926Z"
   },
   {
    "duration": 11,
    "start_time": "2024-10-04T21:45:25.414Z"
   },
   {
    "duration": 14,
    "start_time": "2024-10-04T21:46:07.922Z"
   },
   {
    "duration": 6,
    "start_time": "2024-10-04T21:50:34.038Z"
   },
   {
    "duration": 15,
    "start_time": "2024-10-04T21:53:25.409Z"
   },
   {
    "duration": 9,
    "start_time": "2024-10-04T21:53:42.270Z"
   },
   {
    "duration": 140,
    "start_time": "2024-10-04T21:54:05.637Z"
   },
   {
    "duration": 10,
    "start_time": "2024-10-04T21:54:26.102Z"
   },
   {
    "duration": 20,
    "start_time": "2024-10-04T21:56:02.644Z"
   },
   {
    "duration": 8,
    "start_time": "2024-10-04T21:56:10.672Z"
   },
   {
    "duration": 15,
    "start_time": "2024-10-04T21:56:30.938Z"
   },
   {
    "duration": 14,
    "start_time": "2024-10-04T21:57:59.122Z"
   },
   {
    "duration": 3,
    "start_time": "2024-10-04T21:58:04.407Z"
   },
   {
    "duration": 2,
    "start_time": "2024-10-04T21:59:57.177Z"
   },
   {
    "duration": 9,
    "start_time": "2024-10-04T22:01:27.114Z"
   },
   {
    "duration": 8,
    "start_time": "2024-10-04T22:02:10.905Z"
   },
   {
    "duration": 6,
    "start_time": "2024-10-04T22:02:16.909Z"
   },
   {
    "duration": 19,
    "start_time": "2024-10-04T22:02:28.829Z"
   },
   {
    "duration": 13,
    "start_time": "2024-10-04T22:09:56.031Z"
   },
   {
    "duration": 20,
    "start_time": "2024-10-04T22:10:14.788Z"
   },
   {
    "duration": 12,
    "start_time": "2024-10-04T22:10:27.436Z"
   },
   {
    "duration": 13,
    "start_time": "2024-10-04T22:13:05.991Z"
   },
   {
    "duration": 14,
    "start_time": "2024-10-04T22:13:15.712Z"
   },
   {
    "duration": 2,
    "start_time": "2024-10-04T22:13:32.836Z"
   },
   {
    "duration": 4,
    "start_time": "2024-10-04T22:13:42.180Z"
   },
   {
    "duration": 3,
    "start_time": "2024-10-04T22:17:12.939Z"
   },
   {
    "duration": 5,
    "start_time": "2024-10-04T22:17:21.256Z"
   },
   {
    "duration": 3,
    "start_time": "2024-10-04T22:18:36.780Z"
   },
   {
    "duration": 3,
    "start_time": "2024-10-04T22:19:40.358Z"
   },
   {
    "duration": 13,
    "start_time": "2024-10-04T22:19:41.357Z"
   },
   {
    "duration": 13,
    "start_time": "2024-10-04T22:21:21.275Z"
   },
   {
    "duration": 13,
    "start_time": "2024-10-04T22:21:48.837Z"
   },
   {
    "duration": 77573,
    "start_time": "2024-10-04T22:21:55.845Z"
   },
   {
    "duration": 9,
    "start_time": "2024-10-04T22:24:16.641Z"
   },
   {
    "duration": 7,
    "start_time": "2024-10-04T22:24:26.693Z"
   },
   {
    "duration": 169,
    "start_time": "2024-10-04T22:24:36.775Z"
   },
   {
    "duration": 4,
    "start_time": "2024-10-04T22:26:48.640Z"
   },
   {
    "duration": 163,
    "start_time": "2024-10-04T22:27:03.707Z"
   },
   {
    "duration": 15,
    "start_time": "2024-10-04T22:39:04.189Z"
   },
   {
    "duration": 4,
    "start_time": "2024-10-04T22:41:53.919Z"
   },
   {
    "duration": 7,
    "start_time": "2024-10-04T22:43:02.112Z"
   },
   {
    "duration": 8,
    "start_time": "2024-10-04T22:43:11.292Z"
   },
   {
    "duration": 165,
    "start_time": "2024-10-04T22:44:13.528Z"
   },
   {
    "duration": 4,
    "start_time": "2024-10-04T23:04:17.641Z"
   },
   {
    "duration": 13,
    "start_time": "2024-10-04T23:04:23.016Z"
   },
   {
    "duration": 10,
    "start_time": "2024-10-04T23:06:34.635Z"
   },
   {
    "duration": 8,
    "start_time": "2024-10-04T23:06:55.151Z"
   },
   {
    "duration": 6,
    "start_time": "2024-10-04T23:10:27.487Z"
   },
   {
    "duration": 9,
    "start_time": "2024-10-04T23:11:51.828Z"
   },
   {
    "duration": 10,
    "start_time": "2024-10-04T23:12:57.034Z"
   },
   {
    "duration": 6,
    "start_time": "2024-10-04T23:13:06.010Z"
   },
   {
    "duration": 21,
    "start_time": "2024-10-04T23:14:44.418Z"
   },
   {
    "duration": 35,
    "start_time": "2024-10-04T23:14:49.775Z"
   },
   {
    "duration": 12,
    "start_time": "2024-10-04T23:14:56.001Z"
   },
   {
    "duration": 13,
    "start_time": "2024-10-04T23:15:23.469Z"
   },
   {
    "duration": 7,
    "start_time": "2024-10-04T23:15:37.733Z"
   },
   {
    "duration": 146,
    "start_time": "2024-10-04T23:19:01.681Z"
   },
   {
    "duration": 5,
    "start_time": "2024-10-05T00:07:13.058Z"
   },
   {
    "duration": 8,
    "start_time": "2024-10-05T00:08:27.352Z"
   },
   {
    "duration": 9,
    "start_time": "2024-10-05T00:10:55.279Z"
   },
   {
    "duration": 9,
    "start_time": "2024-10-05T00:11:40.073Z"
   },
   {
    "duration": 7,
    "start_time": "2024-10-05T00:11:55.492Z"
   },
   {
    "duration": 8,
    "start_time": "2024-10-05T00:12:08.696Z"
   },
   {
    "duration": 5,
    "start_time": "2024-10-05T00:19:14.517Z"
   },
   {
    "duration": 7,
    "start_time": "2024-10-05T00:19:41.822Z"
   },
   {
    "duration": 835,
    "start_time": "2024-10-05T01:40:53.300Z"
   },
   {
    "duration": 25,
    "start_time": "2024-10-05T01:40:54.887Z"
   },
   {
    "duration": 12,
    "start_time": "2024-10-05T01:40:56.075Z"
   },
   {
    "duration": 3,
    "start_time": "2024-10-05T01:41:02.787Z"
   },
   {
    "duration": 13,
    "start_time": "2024-10-05T01:41:03.887Z"
   },
   {
    "duration": 7,
    "start_time": "2024-10-05T01:41:06.171Z"
   },
   {
    "duration": 13,
    "start_time": "2024-10-05T01:41:09.051Z"
   },
   {
    "duration": 7,
    "start_time": "2024-10-05T01:41:17.508Z"
   },
   {
    "duration": 6,
    "start_time": "2024-10-05T01:42:43.071Z"
   },
   {
    "duration": 5,
    "start_time": "2024-10-05T01:42:45.960Z"
   },
   {
    "duration": 17,
    "start_time": "2024-10-05T01:42:52.919Z"
   },
   {
    "duration": 40,
    "start_time": "2024-10-05T01:43:01.304Z"
   },
   {
    "duration": 7,
    "start_time": "2024-10-05T01:43:02.948Z"
   },
   {
    "duration": 8,
    "start_time": "2024-10-05T01:43:04.061Z"
   },
   {
    "duration": 4,
    "start_time": "2024-10-05T01:43:14.513Z"
   },
   {
    "duration": 132,
    "start_time": "2024-10-05T01:43:46.865Z"
   },
   {
    "duration": 12,
    "start_time": "2024-10-05T01:44:10.109Z"
   },
   {
    "duration": 392,
    "start_time": "2024-10-05T01:44:15.886Z"
   },
   {
    "duration": 9,
    "start_time": "2024-10-05T01:44:26.917Z"
   },
   {
    "duration": 4,
    "start_time": "2024-10-05T01:44:33.394Z"
   },
   {
    "duration": 210,
    "start_time": "2024-10-05T01:44:36.397Z"
   },
   {
    "duration": 4,
    "start_time": "2024-10-05T01:49:59.994Z"
   },
   {
    "duration": 304,
    "start_time": "2024-10-05T01:50:01.522Z"
   },
   {
    "duration": 7,
    "start_time": "2024-10-05T01:50:25.233Z"
   },
   {
    "duration": 217,
    "start_time": "2024-10-05T01:50:26.393Z"
   },
   {
    "duration": 4,
    "start_time": "2024-10-05T01:50:33.899Z"
   },
   {
    "duration": 86,
    "start_time": "2024-10-05T01:50:34.940Z"
   },
   {
    "duration": 4,
    "start_time": "2024-10-05T01:50:42.200Z"
   },
   {
    "duration": 4,
    "start_time": "2024-10-05T01:50:55.825Z"
   },
   {
    "duration": 89,
    "start_time": "2024-10-05T01:50:56.804Z"
   },
   {
    "duration": 234,
    "start_time": "2024-10-05T01:51:04.346Z"
   },
   {
    "duration": 11,
    "start_time": "2024-10-05T01:52:22.625Z"
   },
   {
    "duration": 189,
    "start_time": "2024-10-05T01:52:24.183Z"
   },
   {
    "duration": 120,
    "start_time": "2024-10-05T01:52:25.975Z"
   },
   {
    "duration": 118,
    "start_time": "2024-10-05T01:52:37.076Z"
   },
   {
    "duration": 6,
    "start_time": "2024-10-05T01:52:55.359Z"
   },
   {
    "duration": 7,
    "start_time": "2024-10-05T01:52:57.004Z"
   },
   {
    "duration": 7,
    "start_time": "2024-10-05T01:52:58.434Z"
   },
   {
    "duration": 6,
    "start_time": "2024-10-05T01:53:06.169Z"
   },
   {
    "duration": 210,
    "start_time": "2024-10-05T01:53:07.152Z"
   },
   {
    "duration": 206,
    "start_time": "2024-10-05T01:53:08.548Z"
   },
   {
    "duration": 6,
    "start_time": "2024-10-05T01:53:20.136Z"
   },
   {
    "duration": 14,
    "start_time": "2024-10-05T01:53:27.446Z"
   },
   {
    "duration": 3,
    "start_time": "2024-10-05T01:53:33.081Z"
   },
   {
    "duration": 8,
    "start_time": "2024-10-05T01:53:34.002Z"
   },
   {
    "duration": 166,
    "start_time": "2024-10-05T01:53:35.325Z"
   },
   {
    "duration": 15,
    "start_time": "2024-10-05T01:53:42.426Z"
   },
   {
    "duration": 3,
    "start_time": "2024-10-05T01:53:48.159Z"
   },
   {
    "duration": 9,
    "start_time": "2024-10-05T01:53:48.909Z"
   },
   {
    "duration": 152,
    "start_time": "2024-10-05T01:53:49.833Z"
   },
   {
    "duration": 14,
    "start_time": "2024-10-05T01:54:02.761Z"
   },
   {
    "duration": 141,
    "start_time": "2024-10-05T01:54:03.765Z"
   },
   {
    "duration": 8,
    "start_time": "2024-10-05T01:54:13.336Z"
   },
   {
    "duration": 7,
    "start_time": "2024-10-05T01:54:22.945Z"
   },
   {
    "duration": 2484,
    "start_time": "2024-10-05T17:27:00.769Z"
   },
   {
    "duration": 38,
    "start_time": "2024-10-05T17:27:03.255Z"
   },
   {
    "duration": 12,
    "start_time": "2024-10-05T17:27:03.295Z"
   },
   {
    "duration": 2,
    "start_time": "2024-10-05T17:27:03.309Z"
   },
   {
    "duration": 16,
    "start_time": "2024-10-05T17:27:03.313Z"
   },
   {
    "duration": 6,
    "start_time": "2024-10-05T17:27:03.330Z"
   },
   {
    "duration": 11,
    "start_time": "2024-10-05T17:27:03.338Z"
   },
   {
    "duration": 5,
    "start_time": "2024-10-05T17:27:03.351Z"
   },
   {
    "duration": 4,
    "start_time": "2024-10-05T17:27:03.358Z"
   },
   {
    "duration": 4,
    "start_time": "2024-10-05T17:27:03.366Z"
   },
   {
    "duration": 15,
    "start_time": "2024-10-05T17:27:03.372Z"
   },
   {
    "duration": 76,
    "start_time": "2024-10-05T17:27:03.389Z"
   },
   {
    "duration": 8,
    "start_time": "2024-10-05T17:27:03.466Z"
   },
   {
    "duration": 8,
    "start_time": "2024-10-05T17:27:03.475Z"
   },
   {
    "duration": 4,
    "start_time": "2024-10-05T17:27:03.484Z"
   },
   {
    "duration": 158,
    "start_time": "2024-10-05T17:27:03.490Z"
   },
   {
    "duration": 11,
    "start_time": "2024-10-05T17:27:03.649Z"
   },
   {
    "duration": 344,
    "start_time": "2024-10-05T17:27:03.662Z"
   },
   {
    "duration": 17,
    "start_time": "2024-10-05T17:27:04.008Z"
   },
   {
    "duration": 3,
    "start_time": "2024-10-05T17:27:04.027Z"
   },
   {
    "duration": 233,
    "start_time": "2024-10-05T17:27:04.032Z"
   },
   {
    "duration": 3,
    "start_time": "2024-10-05T17:27:04.266Z"
   },
   {
    "duration": 346,
    "start_time": "2024-10-05T17:27:04.271Z"
   },
   {
    "duration": 11,
    "start_time": "2024-10-05T17:27:04.618Z"
   },
   {
    "duration": 225,
    "start_time": "2024-10-05T17:27:04.630Z"
   },
   {
    "duration": 5,
    "start_time": "2024-10-05T17:27:04.856Z"
   },
   {
    "duration": 101,
    "start_time": "2024-10-05T17:27:04.862Z"
   },
   {
    "duration": 3,
    "start_time": "2024-10-05T17:27:04.967Z"
   },
   {
    "duration": 4,
    "start_time": "2024-10-05T17:27:04.972Z"
   },
   {
    "duration": 101,
    "start_time": "2024-10-05T17:27:04.979Z"
   },
   {
    "duration": 234,
    "start_time": "2024-10-05T17:27:05.081Z"
   },
   {
    "duration": 15,
    "start_time": "2024-10-05T17:27:05.318Z"
   },
   {
    "duration": 116,
    "start_time": "2024-10-05T17:27:05.334Z"
   },
   {
    "duration": 136,
    "start_time": "2024-10-05T17:27:05.452Z"
   },
   {
    "duration": 6,
    "start_time": "2024-10-05T17:27:05.589Z"
   },
   {
    "duration": 5,
    "start_time": "2024-10-05T17:27:05.597Z"
   },
   {
    "duration": 22,
    "start_time": "2024-10-05T17:27:05.603Z"
   },
   {
    "duration": 11,
    "start_time": "2024-10-05T17:29:57.187Z"
   },
   {
    "duration": 19,
    "start_time": "2024-10-05T17:30:06.913Z"
   },
   {
    "duration": 17,
    "start_time": "2024-10-05T17:30:39.944Z"
   },
   {
    "duration": 12,
    "start_time": "2024-10-05T17:31:23.202Z"
   },
   {
    "duration": 4,
    "start_time": "2024-10-05T17:33:48.821Z"
   },
   {
    "duration": 2,
    "start_time": "2024-10-05T17:38:46.438Z"
   },
   {
    "duration": 5,
    "start_time": "2024-10-05T17:39:00.945Z"
   },
   {
    "duration": 123,
    "start_time": "2024-10-05T17:39:22.637Z"
   },
   {
    "duration": 6,
    "start_time": "2024-10-05T17:39:30.465Z"
   },
   {
    "duration": 11,
    "start_time": "2024-10-05T17:41:44.728Z"
   },
   {
    "duration": 14,
    "start_time": "2024-10-05T17:42:13.857Z"
   },
   {
    "duration": 4,
    "start_time": "2024-10-05T17:42:50.294Z"
   },
   {
    "duration": 18,
    "start_time": "2024-10-05T17:45:54.080Z"
   },
   {
    "duration": 5,
    "start_time": "2024-10-05T17:46:26.387Z"
   },
   {
    "duration": 16,
    "start_time": "2024-10-05T17:46:27.023Z"
   },
   {
    "duration": 4,
    "start_time": "2024-10-05T17:46:36.139Z"
   },
   {
    "duration": 26,
    "start_time": "2024-10-05T17:46:37.040Z"
   },
   {
    "duration": 17,
    "start_time": "2024-10-05T17:46:54.592Z"
   },
   {
    "duration": 4,
    "start_time": "2024-10-05T17:47:02.940Z"
   },
   {
    "duration": 168,
    "start_time": "2024-10-05T17:49:17.261Z"
   },
   {
    "duration": 4,
    "start_time": "2024-10-05T17:49:24.219Z"
   },
   {
    "duration": 77,
    "start_time": "2024-10-05T17:49:32.469Z"
   },
   {
    "duration": 4,
    "start_time": "2024-10-05T17:49:51.609Z"
   },
   {
    "duration": 25,
    "start_time": "2024-10-05T17:50:03.097Z"
   },
   {
    "duration": 16,
    "start_time": "2024-10-05T17:50:25.982Z"
   },
   {
    "duration": 13,
    "start_time": "2024-10-05T17:52:30.427Z"
   },
   {
    "duration": 941,
    "start_time": "2024-10-05T17:53:04.420Z"
   },
   {
    "duration": 1215,
    "start_time": "2024-10-05T17:53:49.543Z"
   },
   {
    "duration": 13,
    "start_time": "2024-10-05T17:56:20.713Z"
   },
   {
    "duration": 13,
    "start_time": "2024-10-05T18:07:08.915Z"
   },
   {
    "duration": 6,
    "start_time": "2024-10-05T18:15:28.956Z"
   },
   {
    "duration": 62,
    "start_time": "2024-10-05T18:24:20.985Z"
   },
   {
    "duration": 21,
    "start_time": "2024-10-05T18:25:28.413Z"
   },
   {
    "duration": 4,
    "start_time": "2024-10-05T18:26:03.124Z"
   },
   {
    "duration": 9,
    "start_time": "2024-10-05T18:26:12.968Z"
   },
   {
    "duration": 252,
    "start_time": "2024-10-05T18:27:24.880Z"
   },
   {
    "duration": 9,
    "start_time": "2024-10-05T18:27:33.786Z"
   },
   {
    "duration": 29,
    "start_time": "2024-10-05T18:29:21.648Z"
   },
   {
    "duration": 13,
    "start_time": "2024-10-05T18:32:17.390Z"
   },
   {
    "duration": 3,
    "start_time": "2024-10-05T18:32:47.280Z"
   },
   {
    "duration": 12,
    "start_time": "2024-10-05T18:32:55.245Z"
   },
   {
    "duration": 3,
    "start_time": "2024-10-05T18:44:01.907Z"
   },
   {
    "duration": 13,
    "start_time": "2024-10-05T18:44:52.383Z"
   },
   {
    "duration": 7,
    "start_time": "2024-10-05T18:44:59.092Z"
   },
   {
    "duration": 202,
    "start_time": "2024-10-05T18:47:09.090Z"
   },
   {
    "duration": 5,
    "start_time": "2024-10-05T18:47:24.138Z"
   },
   {
    "duration": 4,
    "start_time": "2024-10-05T18:47:39.959Z"
   },
   {
    "duration": 4,
    "start_time": "2024-10-05T18:48:51.431Z"
   },
   {
    "duration": 7,
    "start_time": "2024-10-05T18:48:57.680Z"
   },
   {
    "duration": 4,
    "start_time": "2024-10-05T18:54:20.175Z"
   },
   {
    "duration": 14,
    "start_time": "2024-10-05T18:54:38.655Z"
   },
   {
    "duration": 5,
    "start_time": "2024-10-05T18:54:42.245Z"
   },
   {
    "duration": 8,
    "start_time": "2024-10-05T18:54:51.899Z"
   },
   {
    "duration": 7,
    "start_time": "2024-10-05T18:54:55.943Z"
   },
   {
    "duration": 12,
    "start_time": "2024-10-05T18:55:30.240Z"
   },
   {
    "duration": 4,
    "start_time": "2024-10-05T18:57:51.398Z"
   },
   {
    "duration": 293,
    "start_time": "2024-10-05T18:58:02.955Z"
   },
   {
    "duration": 5,
    "start_time": "2024-10-05T19:01:05.055Z"
   },
   {
    "duration": 207,
    "start_time": "2024-10-05T19:01:09.043Z"
   },
   {
    "duration": 6,
    "start_time": "2024-10-05T19:01:20.830Z"
   },
   {
    "duration": 11,
    "start_time": "2024-10-05T19:01:24.472Z"
   },
   {
    "duration": 5,
    "start_time": "2024-10-05T19:03:38.712Z"
   },
   {
    "duration": 163,
    "start_time": "2024-10-05T19:04:23.685Z"
   },
   {
    "duration": 5,
    "start_time": "2024-10-05T19:04:35.996Z"
   },
   {
    "duration": 6,
    "start_time": "2024-10-05T19:04:54.572Z"
   },
   {
    "duration": 44,
    "start_time": "2024-10-05T19:04:55.259Z"
   },
   {
    "duration": 6,
    "start_time": "2024-10-05T19:05:08.150Z"
   },
   {
    "duration": 249,
    "start_time": "2024-10-05T19:05:09.108Z"
   },
   {
    "duration": 236,
    "start_time": "2024-10-05T19:08:56.792Z"
   },
   {
    "duration": 348,
    "start_time": "2024-10-05T19:09:06.630Z"
   },
   {
    "duration": 285,
    "start_time": "2024-10-05T19:11:18.853Z"
   },
   {
    "duration": 271,
    "start_time": "2024-10-05T19:11:32.369Z"
   },
   {
    "duration": 10,
    "start_time": "2024-10-06T02:09:16.458Z"
   },
   {
    "duration": 6,
    "start_time": "2024-10-06T02:09:27.732Z"
   },
   {
    "duration": 7,
    "start_time": "2024-10-06T02:38:18.427Z"
   },
   {
    "duration": 6,
    "start_time": "2024-10-06T02:38:26.852Z"
   },
   {
    "duration": 5,
    "start_time": "2024-10-06T02:38:29.438Z"
   }
  ],
  "kernelspec": {
   "display_name": "Python 3",
   "language": "python",
   "name": "python3"
  },
  "language_info": {
   "codemirror_mode": {
    "name": "ipython",
    "version": 3
   },
   "file_extension": ".py",
   "mimetype": "text/x-python",
   "name": "python",
   "nbconvert_exporter": "python",
   "pygments_lexer": "ipython3",
   "version": "3.6.4"
  },
  "toc": {
   "base_numbering": 1,
   "nav_menu": {},
   "number_sections": true,
   "sideBar": true,
   "skip_h1_title": true,
   "title_cell": "Table of Contents",
   "title_sidebar": "Contents",
   "toc_cell": false,
   "toc_position": {
    "height": "calc(100% - 180px)",
    "left": "10px",
    "top": "150px",
    "width": "165px"
   },
   "toc_section_display": true,
   "toc_window_display": false
  }
 },
 "nbformat": 4,
 "nbformat_minor": 2
}
